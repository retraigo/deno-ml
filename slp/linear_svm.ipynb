{
 "cells": [
  {
   "cell_type": "markdown",
   "metadata": {},
   "source": [
    "# Support Vector Classifier using La Classy\n",
    "WIP. Requires bug fixes from `@lala/appraisal`."
   ]
  },
  {
   "cell_type": "code",
   "execution_count": 24,
   "metadata": {},
   "outputs": [],
   "source": [
    "import { parse } from \"jsr:@std/csv@0.218\";\n",
    "import {\n",
    "  ClassificationReport,\n",
    "  Matrix,\n",
    "  useSplit,\n",
    "} from \"jsr:@lala/appraisal@0.7.5\";\n",
    "import {\n",
    "  GradientDescentSolver,\n",
    "  hinge,\n",
    "} from \"jsr:@lala/classy@1.2.2\";"
   ]
  },
  {
   "cell_type": "markdown",
   "metadata": {},
   "source": [
    "We first load our dataset `spam.csv`."
   ]
  },
  {
   "cell_type": "code",
   "execution_count": 25,
   "metadata": {},
   "outputs": [],
   "source": [
    "const data = parse(Deno.readTextFileSync(\"../datasets/imdb.csv\"));"
   ]
  },
  {
   "cell_type": "markdown",
   "metadata": {},
   "source": [
    "Skip the first row (header)."
   ]
  },
  {
   "cell_type": "code",
   "execution_count": 26,
   "metadata": {},
   "outputs": [
    {
     "data": {
      "text/plain": [
       "[ \u001b[32m\"content\"\u001b[39m, \u001b[32m\"label\"\u001b[39m ]"
      ]
     },
     "execution_count": 26,
     "metadata": {},
     "output_type": "execute_result"
    }
   ],
   "source": [
    "data.shift()"
   ]
  },
  {
   "cell_type": "markdown",
   "metadata": {},
   "source": [
    "We can now get the predictor and target variables from the dataset."
   ]
  },
  {
   "cell_type": "code",
   "execution_count": 27,
   "metadata": {},
   "outputs": [
    {
     "data": {
      "text/plain": [
       "[\n",
       "  \u001b[32m\"A very, very, very slow-moving, aimless movie about a distressed, drifting young man.\"\u001b[39m,\n",
       "  \u001b[32m\"Not sure who was more lost - the flat characters or the audience, nearly half of whom walked out.\"\u001b[39m,\n",
       "  \u001b[32m\"Attempting artiness with black & white and clever camera angles, the movie disappointed - became eve\"\u001b[39m... 86 more characters,\n",
       "  \u001b[32m\"Very little music or anything to speak of.\"\u001b[39m,\n",
       "  \u001b[32m\"The best scene in the movie was when Gerardo is trying to find a song that keeps running through his\"\u001b[39m... 6 more characters,\n",
       "  \u001b[32m\"The rest of the movie lacks art, charm, meaning... If it's about emptiness, it works I guess because\"\u001b[39m... 12 more characters,\n",
       "  \u001b[32m\"Wasted two hours.\"\u001b[39m,\n",
       "  \u001b[32m\"Saw the movie today and thought it was a good effort, good messages for kids.\"\u001b[39m,\n",
       "  \u001b[32m\"A bit predictable.\"\u001b[39m,\n",
       "  \u001b[32m\"Loved the casting of Jimmy Buffet as the science teacher.\"\u001b[39m\n",
       "]"
      ]
     },
     "execution_count": 27,
     "metadata": {},
     "output_type": "execute_result"
    }
   ],
   "source": [
    "const x = data.map((fl, i) => fl[0]);\n",
    "x.slice(0, 10)"
   ]
  },
  {
   "cell_type": "code",
   "execution_count": 28,
   "metadata": {},
   "outputs": [
    {
     "data": {
      "text/html": [
       "<table>\n",
       "<thead><tr><DTh>idx</th><DTh>0</th></tr></thead><tr><td><strong>0</strong></td><td>-1</td></tr><tr><td><strong>1</strong></td><td>-1</td></tr><tr><td><strong>2</strong></td><td>-1</td></tr><tr><td><strong>3</strong></td><td>-1</td></tr><tr><td><strong>4</strong></td><td>1</td></tr><tr><td><strong>5</strong></td><td>-1</td></tr><tr><td><strong>6</strong></td><td>-1</td></tr><tr><td><strong>7</strong></td><td>1</td></tr><tr><td><strong>8</strong></td><td>-1</td></tr><tr><td><strong>9</strong></td><td>1</td></tr></table>"
      ],
      "text/plain": [
       "-1\n",
       "-1\n",
       "-1\n",
       "-1\n",
       "1\n",
       "-1\n",
       "-1\n",
       "1\n",
       "-1\n",
       "1\n"
      ]
     },
     "execution_count": 28,
     "metadata": {},
     "output_type": "execute_result"
    }
   ],
   "source": [
    "const y = new Matrix(data.map((fl) => fl[1] === \"positive\" ? [1] : [-1]), \"f64\");\n",
    "y.slice(0, 10)"
   ]
  },
  {
   "cell_type": "code",
   "execution_count": 29,
   "metadata": {},
   "outputs": [
    {
     "data": {
      "text/plain": [
       "[ \u001b[33m1000\u001b[39m, \u001b[33m1\u001b[39m ]"
      ]
     },
     "execution_count": 29,
     "metadata": {},
     "output_type": "execute_result"
    }
   ],
   "source": [
    "y.shape"
   ]
  },
  {
   "cell_type": "markdown",
   "metadata": {},
   "source": [
    "We now split our dataset for training and testing purposes. "
   ]
  },
  {
   "cell_type": "code",
   "execution_count": 30,
   "metadata": {},
   "outputs": [
    {
     "data": {
      "text/plain": [
       "[\n",
       "  \u001b[32m\"A very, very, very slow-moving, aimless movie about a distressed, drifting young man.\"\u001b[39m,\n",
       "  \u001b[32m\"Not sure who was more lost - the flat characters or the audience, nearly half of whom walked out.\"\u001b[39m,\n",
       "  \u001b[32m\"Very little music or anything to speak of.\"\u001b[39m,\n",
       "  \u001b[32m\"The best scene in the movie was when Gerardo is trying to find a song that keeps running through his\"\u001b[39m... 6 more characters,\n",
       "  \u001b[32m\"The rest of the movie lacks art, charm, meaning... If it's about emptiness, it works I guess because\"\u001b[39m... 12 more characters,\n",
       "  \u001b[32m\"Wasted two hours.\"\u001b[39m,\n",
       "  \u001b[32m\"Saw the movie today and thought it was a good effort, good messages for kids.\"\u001b[39m,\n",
       "  \u001b[32m\"A bit predictable.\"\u001b[39m,\n",
       "  \u001b[32m\"And those baby owls were adorable.\"\u001b[39m,\n",
       "  \u001b[32m\"The Songs Were The Best And The Muppets Were So Hilarious.\"\u001b[39m\n",
       "]"
      ]
     },
     "execution_count": 30,
     "metadata": {},
     "output_type": "execute_result"
    }
   ],
   "source": [
    "const [[x_train, y_train], [x_test, y_test]] = useSplit(\n",
    "  { ratio: [7, 3], shuffle: true },\n",
    "  x,\n",
    "  y\n",
    ");\n",
    "x_train.slice(0, 10)"
   ]
  },
  {
   "cell_type": "markdown",
   "metadata": {},
   "source": [
    "Our input variables are fully text. In order to convert them to vectors, we use a `TextVectorizer`."
   ]
  },
  {
   "cell_type": "code",
   "execution_count": 31,
   "metadata": {},
   "outputs": [
    {
     "ename": "TypeError",
     "evalue": "Cannot read properties of undefined (reading 'shape')",
     "output_type": "error",
     "traceback": [
      "Stack trace:",
      "TypeError: Cannot read properties of undefined (reading 'shape')",
      "    at new Tensor (https://jsr.io/@lala/appraisal/0.7.5/src/utils/misc/tensor.ts:109:21)",
      "    at new Matrix (https://jsr.io/@lala/appraisal/0.7.5/src/utils/misc/matrix.ts:48:5)",
      "    at CountVectorizer.transform (https://jsr.io/@lala/appraisal/0.7.5/src/text/preprocess/vectorize/count_vectorizer.ts:20:17)",
      "    at <anonymous>:10:21"
     ]
    }
   ],
   "source": [
    "import { SplitTokenizer, CountVectorizer } from \"jsr:@lala/appraisal@0.7.5\";\n",
    "\n",
    "const tokenizer = new SplitTokenizer({\n",
    "  skipWords: \"english\",\n",
    "  standardize: { lowercase: true },\n",
    "});\n",
    "tokenizer.fit(x_train)\n",
    "const vec = new CountVectorizer(tokenizer.vocabulary.size)\n",
    "\n",
    "const X_train = vec.transform(tokenizer.transform(x_train, \"f64\"));\n",
    "const X_test = vec.transform(tokenizer.transform(x_test, \"f64\"));\n",
    "X_train.slice(0, 10);\n"
   ]
  },
  {
   "cell_type": "markdown",
   "metadata": {},
   "source": [
    "Now that we have prepared our inputs, we can initialize our solver.\n",
    "\n",
    "We use the `hinge` loss function which is used for binary classification with SVM."
   ]
  },
  {
   "cell_type": "code",
   "execution_count": null,
   "metadata": {},
   "outputs": [],
   "source": [
    "const solver = new GradientDescentSolver({\n",
    "  loss: hinge(),\n",
    "});\n"
   ]
  },
  {
   "cell_type": "markdown",
   "metadata": {},
   "source": [
    "We can then train our model using the data we acquired.\n",
    "\n",
    "Setting the learning rate to a small value is desirable. We are training our model for 100 epochs with 20 minibatches."
   ]
  },
  {
   "cell_type": "code",
   "execution_count": null,
   "metadata": {},
   "outputs": [],
   "source": [
    "solver.train(X_train, y_train, {\n",
    "  learning_rate: 0.01,\n",
    "  epochs: 100,\n",
    "  n_batches: 20,\n",
    "  patience: 10\n",
    "});"
   ]
  },
  {
   "cell_type": "markdown",
   "metadata": {},
   "source": [
    "The model is trained, now it is time to evaluate its performance on our testing dataset"
   ]
  },
  {
   "cell_type": "code",
   "execution_count": null,
   "metadata": {},
   "outputs": [
    {
     "data": {
      "text/plain": [
       "[ \u001b[33m300\u001b[39m, \u001b[33m1\u001b[39m ]"
      ]
     },
     "execution_count": 20,
     "metadata": {},
     "output_type": "execute_result"
    }
   ],
   "source": [
    "const res = solver.predict(X_test)\n",
    "res.shape"
   ]
  },
  {
   "cell_type": "code",
   "execution_count": null,
   "metadata": {},
   "outputs": [
    {
     "data": {
      "text/plain": [
       "Float64Array(1) [ \u001b[33m6.378700324070068\u001b[39m ]"
      ]
     },
     "execution_count": 21,
     "metadata": {},
     "output_type": "execute_result"
    }
   ],
   "source": [
    "res.row(0)"
   ]
  },
  {
   "cell_type": "markdown",
   "metadata": {},
   "source": [
    "Minimizing the `hinge` loss increases the margin between positive and negative samples. We take any positive output as a positive example and negative output as a negative one."
   ]
  },
  {
   "cell_type": "code",
   "execution_count": null,
   "metadata": {},
   "outputs": [
    {
     "data": {
      "text/html": [
       "<table>\n",
       "<thead><tr><DTh>idx</th><DTh>0</th></tr></thead><tr><td><strong>0</strong></td><td>1</td></tr><tr><td><strong>1</strong></td><td>-1</td></tr><tr><td><strong>2</strong></td><td>-1</td></tr><tr><td><strong>3</strong></td><td>-1</td></tr><tr><td><strong>4</strong></td><td>1</td></tr><tr><td><strong>5</strong></td><td>1</td></tr><tr><td><strong>6</strong></td><td>-1</td></tr><tr><td><strong>7</strong></td><td>1</td></tr><tr><td><strong>8</strong></td><td>-1</td></tr><tr><td><strong>9</strong></td><td>-1</td></tr></table>"
      ],
      "text/plain": [
       "1\n",
       "-1\n",
       "-1\n",
       "-1\n",
       "1\n",
       "1\n",
       "-1\n",
       "1\n",
       "-1\n",
       "-1\n"
      ]
     },
     "execution_count": 22,
     "metadata": {},
     "output_type": "execute_result"
    }
   ],
   "source": [
    "for (let i = 0; i < res.data.length; i += 1) {\n",
    "  res.data[i] = res.data[i] > 0 ? 1 : -1\n",
    "}\n",
    "res.slice(0, 10)"
   ]
  },
  {
   "cell_type": "markdown",
   "metadata": {},
   "source": [
    "Finally, we can generate a classification report based on our results."
   ]
  },
  {
   "cell_type": "code",
   "execution_count": null,
   "metadata": {},
   "outputs": [
    {
     "data": {
      "text/html": [
       "<table><thead><tr><th>Class</th><th>Precision</th><th>F1Score</th><th>Recall</th><th>Support</th></tr></thead><tr><td>-1</td><td>0.620253164556962</td><td>0.2978723404255319</td><td>0.196</td><td>500</td></tr><tr><td>1</td><td>0.8695652173913043</td><td>0.9302325581395349</td><td>1</td><td>500</td></tr><tr><td>Accuracy</td><td></td><td></td><td>0.7315</td><td>1000</td></tr></table>"
      ],
      "text/plain": [
       "Classification Report\n",
       "Number of classes:\t2\n",
       "Class\tPreci\tF1\tRec\tSup\n",
       "-1\t0.620253164556962\t0.2978723404255319\t0.196\t500\n",
       "1\t0.8695652173913043\t0.9302325581395349\t1\t500\n",
       "Accuracy\t\t0.7315\t1000"
      ]
     },
     "execution_count": 16,
     "metadata": {},
     "output_type": "execute_result"
    }
   ],
   "source": [
    "new ClassificationReport(y.data, res.data)"
   ]
  },
  {
   "cell_type": "markdown",
   "metadata": {},
   "source": []
  }
 ],
 "metadata": {
  "kernelspec": {
   "display_name": "Deno",
   "language": "typescript",
   "name": "deno"
  },
  "language_info": {
   "file_extension": ".ts",
   "mimetype": "text/x.typescript",
   "name": "typescript",
   "nb_converter": "script",
   "pygments_lexer": "typescript",
   "version": "5.3.3"
  }
 },
 "nbformat": 4,
 "nbformat_minor": 2
}
