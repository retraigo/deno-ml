{
 "cells": [
  {
   "cell_type": "markdown",
   "metadata": {},
   "source": [
    "# Logistic Regression using La Classy"
   ]
  },
  {
   "cell_type": "code",
   "execution_count": 27,
   "metadata": {},
   "outputs": [],
   "source": [
    "import { parse } from \"https://deno.land/std@0.204.0/csv/parse.ts\";\n",
    "import {\n",
    "  ClassificationReport,\n",
    "  Matrix,\n",
    "  useSplit,\n",
    "  CategoricalEncoder,\n",
    "} from \"https://deno.land/x/vectorizer@v0.3.4/mod.ts\";\n",
    "import {\n",
    "  SagSolver,\n",
    "  softmaxActivation,\n",
    "  rmsPropOptimizer,\n",
    "  crossEntropy,\n",
    "} from \"https://deno.land/x/classylala@v1.0.0/mod.ts\";\n"
   ]
  },
  {
   "cell_type": "markdown",
   "metadata": {},
   "source": [
    "We first load our dataset `iris.csv`."
   ]
  },
  {
   "cell_type": "code",
   "execution_count": 2,
   "metadata": {},
   "outputs": [],
   "source": [
    "const data = parse(Deno.readTextFileSync(\"../datasets/iris.csv\"));"
   ]
  },
  {
   "cell_type": "markdown",
   "metadata": {},
   "source": [
    "Skip the first row (header)."
   ]
  },
  {
   "cell_type": "code",
   "execution_count": 3,
   "metadata": {},
   "outputs": [
    {
     "data": {
      "text/plain": [
       "[\n",
       "  \u001b[32m\"sepal length\"\u001b[39m,\n",
       "  \u001b[32m\"sepal width\"\u001b[39m,\n",
       "  \u001b[32m\"petal length\"\u001b[39m,\n",
       "  \u001b[32m\"petal width\"\u001b[39m,\n",
       "  \u001b[32m\"class\"\u001b[39m\n",
       "]"
      ]
     },
     "execution_count": 3,
     "metadata": {},
     "output_type": "execute_result"
    }
   ],
   "source": [
    "data.shift()"
   ]
  },
  {
   "cell_type": "markdown",
   "metadata": {},
   "source": [
    "We can now get the predictor and target variables from the dataset."
   ]
  },
  {
   "cell_type": "code",
   "execution_count": 16,
   "metadata": {},
   "outputs": [
    {
     "data": {
      "text/html": [
       "<table>\n",
       "<thead><tr><th>idx</th><th>0</th><th>1</th><th>2</th><th>3</th></tr></thead><tr><td><strong>0</strong></td><td>5.1</td><td>3.5</td><td>1.4</td><td>0.2</td></tr><tr><td><strong>1</strong></td><td>4.9</td><td>3</td><td>1.4</td><td>0.2</td></tr><tr><td><strong>2</strong></td><td>4.7</td><td>3.2</td><td>1.3</td><td>0.2</td></tr><tr><td><strong>3</strong></td><td>4.6</td><td>3.1</td><td>1.5</td><td>0.2</td></tr><tr><td><strong>4</strong></td><td>5</td><td>3.6</td><td>1.4</td><td>0.2</td></tr><tr><td><strong>5</strong></td><td>5.4</td><td>3.9</td><td>1.7</td><td>0.4</td></tr><tr><td><strong>6</strong></td><td>4.6</td><td>3.4</td><td>1.4</td><td>0.3</td></tr><tr><td><strong>7</strong></td><td>5</td><td>3.4</td><td>1.5</td><td>0.2</td></tr><tr><td><strong>8</strong></td><td>4.4</td><td>2.9</td><td>1.4</td><td>0.2</td></tr><tr><td><strong>9</strong></td><td>4.9</td><td>3.1</td><td>1.5</td><td>0.1</td></tr></table>"
      ],
      "text/plain": [
       "5.1\t3.5\t1.4\t0.2\n",
       "4.9\t3\t1.4\t0.2\n",
       "4.7\t3.2\t1.3\t0.2\n",
       "4.6\t3.1\t1.5\t0.2\n",
       "5\t3.6\t1.4\t0.2\n",
       "5.4\t3.9\t1.7\t0.4\n",
       "4.6\t3.4\t1.4\t0.3\n",
       "5\t3.4\t1.5\t0.2\n",
       "4.4\t2.9\t1.4\t0.2\n",
       "4.9\t3.1\t1.5\t0.1\n"
      ]
     },
     "execution_count": 16,
     "metadata": {},
     "output_type": "execute_result"
    }
   ],
   "source": [
    "const x = data.map((fl, i) => fl.slice(0, 4).map(Number));\n",
    "\n",
    "const X = new Matrix<\"f64\">(Float64Array.from(x.flat()), [data.length])\n",
    "X.slice(0, 10)"
   ]
  },
  {
   "cell_type": "code",
   "execution_count": 14,
   "metadata": {},
   "outputs": [
    {
     "data": {
      "text/plain": [
       "[\n",
       "  \u001b[32m\"Iris-setosa\"\u001b[39m,\n",
       "  \u001b[32m\"Iris-setosa\"\u001b[39m,\n",
       "  \u001b[32m\"Iris-setosa\"\u001b[39m,\n",
       "  \u001b[32m\"Iris-setosa\"\u001b[39m,\n",
       "  \u001b[32m\"Iris-setosa\"\u001b[39m,\n",
       "  \u001b[32m\"Iris-setosa\"\u001b[39m,\n",
       "  \u001b[32m\"Iris-setosa\"\u001b[39m,\n",
       "  \u001b[32m\"Iris-setosa\"\u001b[39m,\n",
       "  \u001b[32m\"Iris-setosa\"\u001b[39m,\n",
       "  \u001b[32m\"Iris-setosa\"\u001b[39m\n",
       "]"
      ]
     },
     "execution_count": 14,
     "metadata": {},
     "output_type": "execute_result"
    }
   ],
   "source": [
    "const y_pre = data.map((fl) => fl[4]);\n",
    "y_pre.slice(0, 10)"
   ]
  },
  {
   "cell_type": "markdown",
   "metadata": {},
   "source": [
    "Our target variables are all strings. In order to use them for classification, we convert them into categorical variables."
   ]
  },
  {
   "cell_type": "code",
   "execution_count": 11,
   "metadata": {},
   "outputs": [
    {
     "data": {
      "text/html": [
       "<table>\n",
       "<thead><tr><th>idx</th><th>0</th><th>1</th><th>2</th></tr></thead><tr><td><strong>0</strong></td><td>1</td><td>0</td><td>0</td></tr><tr><td><strong>1</strong></td><td>1</td><td>0</td><td>0</td></tr><tr><td><strong>2</strong></td><td>1</td><td>0</td><td>0</td></tr><tr><td><strong>3</strong></td><td>1</td><td>0</td><td>0</td></tr><tr><td><strong>4</strong></td><td>1</td><td>0</td><td>0</td></tr><tr><td><strong>5</strong></td><td>1</td><td>0</td><td>0</td></tr><tr><td><strong>6</strong></td><td>1</td><td>0</td><td>0</td></tr><tr><td><strong>7</strong></td><td>1</td><td>0</td><td>0</td></tr><tr><td><strong>8</strong></td><td>1</td><td>0</td><td>0</td></tr><tr><td><strong>9</strong></td><td>1</td><td>0</td><td>0</td></tr></table>"
      ],
      "text/plain": [
       "1\t0\t0\n",
       "1\t0\t0\n",
       "1\t0\t0\n",
       "1\t0\t0\n",
       "1\t0\t0\n",
       "1\t0\t0\n",
       "1\t0\t0\n",
       "1\t0\t0\n",
       "1\t0\t0\n",
       "1\t0\t0\n"
      ]
     },
     "execution_count": 11,
     "metadata": {},
     "output_type": "execute_result"
    }
   ],
   "source": [
    "const encoder = new CategoricalEncoder()\n",
    "const y = encoder.fit(y_pre).transform<\"f64\">(y_pre, \"f64\")\n",
    "y.slice(0, 10)"
   ]
  },
  {
   "cell_type": "code",
   "execution_count": 12,
   "metadata": {},
   "outputs": [
    {
     "data": {
      "text/plain": [
       "[ [ \u001b[33m150\u001b[39m, \u001b[33m4\u001b[39m ], [ \u001b[33m150\u001b[39m, \u001b[33m3\u001b[39m ] ]"
      ]
     },
     "execution_count": 12,
     "metadata": {},
     "output_type": "execute_result"
    }
   ],
   "source": [
    "[X.shape, y.shape]"
   ]
  },
  {
   "cell_type": "markdown",
   "metadata": {},
   "source": [
    "We now split our dataset for training and testing purposes. "
   ]
  },
  {
   "cell_type": "code",
   "execution_count": 17,
   "metadata": {},
   "outputs": [
    {
     "data": {
      "text/html": [
       "<table>\n",
       "<thead><tr><th>idx</th><th>0</th><th>1</th><th>2</th><th>3</th></tr></thead><tr><td><strong>0</strong></td><td>5.1</td><td>3.5</td><td>1.4</td><td>0.2</td></tr><tr><td><strong>1</strong></td><td>4.7</td><td>3.2</td><td>1.3</td><td>0.2</td></tr><tr><td><strong>2</strong></td><td>4.6</td><td>3.1</td><td>1.5</td><td>0.2</td></tr><tr><td><strong>3</strong></td><td>5</td><td>3.6</td><td>1.4</td><td>0.2</td></tr><tr><td><strong>4</strong></td><td>5.4</td><td>3.9</td><td>1.7</td><td>0.4</td></tr><tr><td><strong>5</strong></td><td>4.6</td><td>3.4</td><td>1.4</td><td>0.3</td></tr><tr><td><strong>6</strong></td><td>4.4</td><td>2.9</td><td>1.4</td><td>0.2</td></tr><tr><td><strong>7</strong></td><td>5.4</td><td>3.7</td><td>1.5</td><td>0.2</td></tr><tr><td><strong>8</strong></td><td>4.8</td><td>3.4</td><td>1.6</td><td>0.2</td></tr><tr><td><strong>9</strong></td><td>4.8</td><td>3</td><td>1.4</td><td>0.1</td></tr></table>"
      ],
      "text/plain": [
       "5.1\t3.5\t1.4\t0.2\n",
       "4.7\t3.2\t1.3\t0.2\n",
       "4.6\t3.1\t1.5\t0.2\n",
       "5\t3.6\t1.4\t0.2\n",
       "5.4\t3.9\t1.7\t0.4\n",
       "4.6\t3.4\t1.4\t0.3\n",
       "4.4\t2.9\t1.4\t0.2\n",
       "5.4\t3.7\t1.5\t0.2\n",
       "4.8\t3.4\t1.6\t0.2\n",
       "4.8\t3\t1.4\t0.1\n"
      ]
     },
     "execution_count": 17,
     "metadata": {},
     "output_type": "execute_result"
    }
   ],
   "source": [
    "const [[x_train, y_train], [x_test, y_test]] = useSplit(\n",
    "  { ratio: [7, 3], shuffle: true },\n",
    "  X,\n",
    "  y\n",
    ");\n",
    "x_train.slice(0, 10)"
   ]
  },
  {
   "cell_type": "markdown",
   "metadata": {},
   "source": [
    "Now that we have prepared our inputs, we can initialize our solver. Since we are performing logistic regression, we use a SAG solver.\n",
    "\n",
    "We use the `crossEntropy` loss function which is used for multinomial classification, `rmsprop` as our optimizer, and finally a `softmax` function to compute joint probabilities."
   ]
  },
  {
   "cell_type": "code",
   "execution_count": 28,
   "metadata": {},
   "outputs": [],
   "source": [
    "const solver = new SagSolver({\n",
    "  loss: crossEntropy(),\n",
    "  activation: softmaxActivation(),\n",
    "  optimizer: rmsPropOptimizer(4, 3),\n",
    "});\n"
   ]
  },
  {
   "cell_type": "markdown",
   "metadata": {},
   "source": [
    "We can then train our model using the data we acquired.\n",
    "\n",
    "Setting the learning rate to a small value is desirable. Since our dataset is pretty simple, we are training our model for 300 epochs with 20 minibatches."
   ]
  },
  {
   "cell_type": "code",
   "execution_count": 31,
   "metadata": {},
   "outputs": [],
   "source": [
    "solver.train(x_train, y_train, {\n",
    "  learning_rate: 0.01,\n",
    "  epochs: 300,\n",
    "  n_batches: 20,\n",
    "  patience: 10\n",
    "});"
   ]
  },
  {
   "cell_type": "markdown",
   "metadata": {},
   "source": [
    "The model is trained, now it is time to evaluate its performance on our testing dataset"
   ]
  },
  {
   "cell_type": "code",
   "execution_count": 32,
   "metadata": {},
   "outputs": [
    {
     "data": {
      "text/plain": [
       "[ \u001b[33m45\u001b[39m, \u001b[33m3\u001b[39m ]"
      ]
     },
     "execution_count": 32,
     "metadata": {},
     "output_type": "execute_result"
    }
   ],
   "source": [
    "const res = solver.predict(x_test)\n",
    "res.shape"
   ]
  },
  {
   "cell_type": "code",
   "execution_count": 33,
   "metadata": {},
   "outputs": [
    {
     "data": {
      "text/plain": [
       "Float64Array(3) [\n",
       "  \u001b[33m0.9999999998572584\u001b[39m,\n",
       "  \u001b[33m1.4274144924604957e-10\u001b[39m,\n",
       "  \u001b[33m1.948289218474953e-20\u001b[39m\n",
       "]"
      ]
     },
     "execution_count": 33,
     "metadata": {},
     "output_type": "execute_result"
    }
   ],
   "source": [
    "res.row(0)"
   ]
  },
  {
   "cell_type": "markdown",
   "metadata": {},
   "source": [
    "The softmax function provides probabilities for the data point to belong to each of the classes. In our case, the three numbers in the array represent the probabilities of the first data point belonging to the classes `setosa`, `versicolor`, and `virginica` respectively.\n",
    "\n",
    "We convert these into one-hot representations by taking the `argmax`."
   ]
  },
  {
   "cell_type": "code",
   "execution_count": 34,
   "metadata": {},
   "outputs": [
    {
     "data": {
      "text/html": [
       "<table>\n",
       "<thead><tr><th>idx</th><th>0</th><th>1</th><th>2</th></tr></thead><tr><td><strong>0</strong></td><td>1</td><td>0</td><td>0</td></tr><tr><td><strong>1</strong></td><td>1</td><td>0</td><td>0</td></tr><tr><td><strong>2</strong></td><td>1</td><td>0</td><td>0</td></tr><tr><td><strong>3</strong></td><td>1</td><td>0</td><td>0</td></tr><tr><td><strong>4</strong></td><td>1</td><td>0</td><td>0</td></tr><tr><td><strong>5</strong></td><td>1</td><td>0</td><td>0</td></tr><tr><td><strong>6</strong></td><td>1</td><td>0</td><td>0</td></tr><tr><td><strong>7</strong></td><td>1</td><td>0</td><td>0</td></tr><tr><td><strong>8</strong></td><td>1</td><td>0</td><td>0</td></tr><tr><td><strong>9</strong></td><td>1</td><td>0</td><td>0</td></tr></table>"
      ],
      "text/plain": [
       "1\t0\t0\n",
       "1\t0\t0\n",
       "1\t0\t0\n",
       "1\t0\t0\n",
       "1\t0\t0\n",
       "1\t0\t0\n",
       "1\t0\t0\n",
       "1\t0\t0\n",
       "1\t0\t0\n",
       "1\t0\t0\n"
      ]
     },
     "execution_count": 34,
     "metadata": {},
     "output_type": "execute_result"
    }
   ],
   "source": [
    "let i = 0;\n",
    "for (const row of res.rows()) {\n",
    "  const max = row.reduce((acc, curr, i, arr) => arr[acc] > curr ? acc : i, 0)\n",
    "  const newR = new Array(row.length).fill(0)\n",
    "  newR[max] = 1\n",
    "  res.setRow(i, newR)\n",
    "  i += 1;\n",
    "}\n",
    "res.slice(0, 10)"
   ]
  },
  {
   "cell_type": "markdown",
   "metadata": {},
   "source": [
    "We can use our encoder to convert the categorical variables into class labels."
   ]
  },
  {
   "cell_type": "code",
   "execution_count": 35,
   "metadata": {},
   "outputs": [],
   "source": [
    "const y_pred = encoder.untransform(res)\n",
    "const y_act = encoder.untransform(y_test)"
   ]
  },
  {
   "cell_type": "code",
   "execution_count": 37,
   "metadata": {},
   "outputs": [
    {
     "data": {
      "text/plain": [
       "[\n",
       "  [\n",
       "    \u001b[32m\"Iris-setosa\"\u001b[39m,     \u001b[32m\"Iris-setosa\"\u001b[39m,     \u001b[32m\"Iris-setosa\"\u001b[39m,\n",
       "    \u001b[32m\"Iris-setosa\"\u001b[39m,     \u001b[32m\"Iris-setosa\"\u001b[39m,     \u001b[32m\"Iris-setosa\"\u001b[39m,\n",
       "    \u001b[32m\"Iris-setosa\"\u001b[39m,     \u001b[32m\"Iris-setosa\"\u001b[39m,     \u001b[32m\"Iris-setosa\"\u001b[39m,\n",
       "    \u001b[32m\"Iris-setosa\"\u001b[39m,     \u001b[32m\"Iris-setosa\"\u001b[39m,     \u001b[32m\"Iris-setosa\"\u001b[39m,\n",
       "    \u001b[32m\"Iris-setosa\"\u001b[39m,     \u001b[32m\"Iris-versicolor\"\u001b[39m, \u001b[32m\"Iris-versicolor\"\u001b[39m,\n",
       "    \u001b[32m\"Iris-versicolor\"\u001b[39m, \u001b[32m\"Iris-versicolor\"\u001b[39m, \u001b[32m\"Iris-versicolor\"\u001b[39m,\n",
       "    \u001b[32m\"Iris-virginica\"\u001b[39m,  \u001b[32m\"Iris-versicolor\"\u001b[39m, \u001b[32m\"Iris-virginica\"\u001b[39m,\n",
       "    \u001b[32m\"Iris-versicolor\"\u001b[39m, \u001b[32m\"Iris-versicolor\"\u001b[39m, \u001b[32m\"Iris-versicolor\"\u001b[39m,\n",
       "    \u001b[32m\"Iris-versicolor\"\u001b[39m, \u001b[32m\"Iris-versicolor\"\u001b[39m, \u001b[32m\"Iris-versicolor\"\u001b[39m,\n",
       "    \u001b[32m\"Iris-versicolor\"\u001b[39m, \u001b[32m\"Iris-versicolor\"\u001b[39m, \u001b[32m\"Iris-versicolor\"\u001b[39m,\n",
       "    \u001b[32m\"Iris-virginica\"\u001b[39m,  \u001b[32m\"Iris-virginica\"\u001b[39m,  \u001b[32m\"Iris-virginica\"\u001b[39m,\n",
       "    \u001b[32m\"Iris-virginica\"\u001b[39m,  \u001b[32m\"Iris-virginica\"\u001b[39m,  \u001b[32m\"Iris-virginica\"\u001b[39m,\n",
       "    \u001b[32m\"Iris-virginica\"\u001b[39m,  \u001b[32m\"Iris-virginica\"\u001b[39m,  \u001b[32m\"Iris-virginica\"\u001b[39m,\n",
       "    \u001b[32m\"Iris-virginica\"\u001b[39m,  \u001b[32m\"Iris-virginica\"\u001b[39m,  \u001b[32m\"Iris-virginica\"\u001b[39m,\n",
       "    \u001b[32m\"Iris-virginica\"\u001b[39m,  \u001b[32m\"Iris-virginica\"\u001b[39m,  \u001b[32m\"Iris-virginica\"\u001b[39m\n",
       "  ],\n",
       "  [\n",
       "    \u001b[32m\"Iris-setosa\"\u001b[39m,     \u001b[32m\"Iris-setosa\"\u001b[39m,     \u001b[32m\"Iris-setosa\"\u001b[39m,\n",
       "    \u001b[32m\"Iris-setosa\"\u001b[39m,     \u001b[32m\"Iris-setosa\"\u001b[39m,     \u001b[32m\"Iris-setosa\"\u001b[39m,\n",
       "    \u001b[32m\"Iris-setosa\"\u001b[39m,     \u001b[32m\"Iris-setosa\"\u001b[39m,     \u001b[32m\"Iris-setosa\"\u001b[39m,\n",
       "    \u001b[32m\"Iris-setosa\"\u001b[39m,     \u001b[32m\"Iris-setosa\"\u001b[39m,     \u001b[32m\"Iris-setosa\"\u001b[39m,\n",
       "    \u001b[32m\"Iris-setosa\"\u001b[39m,     \u001b[32m\"Iris-versicolor\"\u001b[39m, \u001b[32m\"Iris-versicolor\"\u001b[39m,\n",
       "    \u001b[32m\"Iris-versicolor\"\u001b[39m, \u001b[32m\"Iris-versicolor\"\u001b[39m, \u001b[32m\"Iris-versicolor\"\u001b[39m,\n",
       "    \u001b[32m\"Iris-versicolor\"\u001b[39m, \u001b[32m\"Iris-versicolor\"\u001b[39m, \u001b[32m\"Iris-versicolor\"\u001b[39m,\n",
       "    \u001b[32m\"Iris-versicolor\"\u001b[39m, \u001b[32m\"Iris-versicolor\"\u001b[39m, \u001b[32m\"Iris-versicolor\"\u001b[39m,\n",
       "    \u001b[32m\"Iris-versicolor\"\u001b[39m, \u001b[32m\"Iris-versicolor\"\u001b[39m, \u001b[32m\"Iris-versicolor\"\u001b[39m,\n",
       "    \u001b[32m\"Iris-versicolor\"\u001b[39m, \u001b[32m\"Iris-versicolor\"\u001b[39m, \u001b[32m\"Iris-versicolor\"\u001b[39m,\n",
       "    \u001b[32m\"Iris-virginica\"\u001b[39m,  \u001b[32m\"Iris-virginica\"\u001b[39m,  \u001b[32m\"Iris-virginica\"\u001b[39m,\n",
       "    \u001b[32m\"Iris-virginica\"\u001b[39m,  \u001b[32m\"Iris-virginica\"\u001b[39m,  \u001b[32m\"Iris-virginica\"\u001b[39m,\n",
       "    \u001b[32m\"Iris-virginica\"\u001b[39m,  \u001b[32m\"Iris-virginica\"\u001b[39m,  \u001b[32m\"Iris-virginica\"\u001b[39m,\n",
       "    \u001b[32m\"Iris-virginica\"\u001b[39m,  \u001b[32m\"Iris-virginica\"\u001b[39m,  \u001b[32m\"Iris-virginica\"\u001b[39m,\n",
       "    \u001b[32m\"Iris-virginica\"\u001b[39m,  \u001b[32m\"Iris-virginica\"\u001b[39m,  \u001b[32m\"Iris-virginica\"\u001b[39m\n",
       "  ]\n",
       "]"
      ]
     },
     "execution_count": 37,
     "metadata": {},
     "output_type": "execute_result"
    }
   ],
   "source": [
    "[y_pred, y_act]"
   ]
  },
  {
   "cell_type": "markdown",
   "metadata": {},
   "source": [
    "Finally, we can generate a classification report based on our results."
   ]
  },
  {
   "cell_type": "code",
   "execution_count": 36,
   "metadata": {},
   "outputs": [
    {
     "data": {
      "text/html": [
       "<table><thead><tr><th>Class</th><th>Precision</th><th>F1Score</th><th>Recall</th><th>Support</th></tr></thead><tr><td>Class Iris-setosa</td><td>1</td><td>1</td><td>1</td><td>13</td></tr><tr><td>Class Iris-versicolor</td><td>1</td><td>1</td><td>1</td><td>17</td></tr><tr><td>Class Iris-virginica</td><td>0.8823529411764706</td><td>0.9375</td><td>1</td><td>15</td></tr><tr><td>Accuracy</td><td></td><td>0.9851851851851852</td><td>45</td></tr></table>"
      ],
      "text/plain": [
       "Classification Report\n",
       "Number of classes:\t3\n",
       "Class\tPreci\tF1\tRec\tSup\n",
       "Iris-setosa\t1\t1\t1\t13\n",
       "Iris-versicolor\t1\t1\t1\t17\n",
       "Iris-virginica\t0.8823529411764706\t0.9375\t1\t15\n",
       "Accuracy\t\t0.9851851851851852\t45"
      ]
     },
     "execution_count": 36,
     "metadata": {},
     "output_type": "execute_result"
    }
   ],
   "source": [
    "new ClassificationReport(y_act, y_pred)"
   ]
  },
  {
   "cell_type": "markdown",
   "metadata": {},
   "source": [
    "As we see, the classifier easily classifies different iris species. This is possible because the classes are easily separable. In a more complex database, these results may greatly vary."
   ]
  }
 ],
 "metadata": {
  "kernelspec": {
   "display_name": "Deno",
   "language": "typescript",
   "name": "deno"
  },
  "language_info": {
   "file_extension": ".ts",
   "mimetype": "text/x.typescript",
   "name": "typescript",
   "nb_converter": "script",
   "pygments_lexer": "typescript",
   "version": "5.3.3"
  }
 },
 "nbformat": 4,
 "nbformat_minor": 2
}
