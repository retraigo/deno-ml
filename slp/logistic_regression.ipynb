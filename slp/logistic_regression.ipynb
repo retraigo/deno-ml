{
 "cells": [
  {
   "cell_type": "markdown",
   "metadata": {},
   "source": [
    "# Logistic Regression using La Classy"
   ]
  },
  {
   "cell_type": "code",
   "execution_count": 53,
   "metadata": {},
   "outputs": [],
   "source": [
    "import { parse } from \"jsr:@std/csv@0.218\";\n",
    "import {\n",
    "  ClassificationReport,\n",
    "  Matrix,\n",
    "  useSplit,\n",
    "  CategoricalEncoder,\n",
    "} from \"jsr:@lala/appraisal@0.7.5\";\n",
    "import {\n",
    "  SagSolver,\n",
    "  softmaxActivation,\n",
    "  rmsPropOptimizer,\n",
    "  crossEntropy,\n",
    "} from \"jsr:@lala/classy@1.2.2\";\n"
   ]
  },
  {
   "cell_type": "markdown",
   "metadata": {},
   "source": [
    "We first load our dataset `iris.csv`."
   ]
  },
  {
   "cell_type": "code",
   "execution_count": 54,
   "metadata": {},
   "outputs": [],
   "source": [
    "const data = parse(Deno.readTextFileSync(\"../datasets/iris.csv\"));"
   ]
  },
  {
   "cell_type": "markdown",
   "metadata": {},
   "source": [
    "Skip the first row (header)."
   ]
  },
  {
   "cell_type": "code",
   "execution_count": 55,
   "metadata": {},
   "outputs": [
    {
     "data": {
      "text/plain": [
       "[\n",
       "  \u001b[32m\"sepal length\"\u001b[39m,\n",
       "  \u001b[32m\"sepal width\"\u001b[39m,\n",
       "  \u001b[32m\"petal length\"\u001b[39m,\n",
       "  \u001b[32m\"petal width\"\u001b[39m,\n",
       "  \u001b[32m\"class\"\u001b[39m\n",
       "]"
      ]
     },
     "execution_count": 55,
     "metadata": {},
     "output_type": "execute_result"
    }
   ],
   "source": [
    "data.shift()"
   ]
  },
  {
   "cell_type": "markdown",
   "metadata": {},
   "source": [
    "We can now get the predictor and target variables from the dataset."
   ]
  },
  {
   "cell_type": "code",
   "execution_count": 56,
   "metadata": {},
   "outputs": [
    {
     "data": {
      "text/html": [
       "<table>\n",
       "<thead><tr><DTh>idx</th><DTh>0</th><DTh>1</th><DTh>2</th><DTh>3</th></tr></thead><tr><td><strong>0</strong></td><td>5.1</td><td>3.5</td><td>1.4</td><td>0.2</td></tr><tr><td><strong>1</strong></td><td>4.9</td><td>3</td><td>1.4</td><td>0.2</td></tr><tr><td><strong>2</strong></td><td>4.7</td><td>3.2</td><td>1.3</td><td>0.2</td></tr><tr><td><strong>3</strong></td><td>4.6</td><td>3.1</td><td>1.5</td><td>0.2</td></tr><tr><td><strong>4</strong></td><td>5</td><td>3.6</td><td>1.4</td><td>0.2</td></tr><tr><td><strong>5</strong></td><td>5.4</td><td>3.9</td><td>1.7</td><td>0.4</td></tr><tr><td><strong>6</strong></td><td>4.6</td><td>3.4</td><td>1.4</td><td>0.3</td></tr><tr><td><strong>7</strong></td><td>5</td><td>3.4</td><td>1.5</td><td>0.2</td></tr><tr><td><strong>8</strong></td><td>4.4</td><td>2.9</td><td>1.4</td><td>0.2</td></tr><tr><td><strong>9</strong></td><td>4.9</td><td>3.1</td><td>1.5</td><td>0.1</td></tr></table>"
      ],
      "text/plain": [
       "5.1\t3.5\t1.4\t0.2\n",
       "4.9\t3\t1.4\t0.2\n",
       "4.7\t3.2\t1.3\t0.2\n",
       "4.6\t3.1\t1.5\t0.2\n",
       "5\t3.6\t1.4\t0.2\n",
       "5.4\t3.9\t1.7\t0.4\n",
       "4.6\t3.4\t1.4\t0.3\n",
       "5\t3.4\t1.5\t0.2\n",
       "4.4\t2.9\t1.4\t0.2\n",
       "4.9\t3.1\t1.5\t0.1\n"
      ]
     },
     "execution_count": 56,
     "metadata": {},
     "output_type": "execute_result"
    }
   ],
   "source": [
    "const x = data.map((fl, i) => fl.slice(0, 4).map(Number));\n",
    "\n",
    "const X = new Matrix(x, \"f64\")\n",
    "X.slice(0, 10)"
   ]
  },
  {
   "cell_type": "code",
   "execution_count": 57,
   "metadata": {},
   "outputs": [
    {
     "data": {
      "text/plain": [
       "[\n",
       "  \u001b[32m\"Iris-setosa\"\u001b[39m,\n",
       "  \u001b[32m\"Iris-setosa\"\u001b[39m,\n",
       "  \u001b[32m\"Iris-setosa\"\u001b[39m,\n",
       "  \u001b[32m\"Iris-setosa\"\u001b[39m,\n",
       "  \u001b[32m\"Iris-setosa\"\u001b[39m,\n",
       "  \u001b[32m\"Iris-setosa\"\u001b[39m,\n",
       "  \u001b[32m\"Iris-setosa\"\u001b[39m,\n",
       "  \u001b[32m\"Iris-setosa\"\u001b[39m,\n",
       "  \u001b[32m\"Iris-setosa\"\u001b[39m,\n",
       "  \u001b[32m\"Iris-setosa\"\u001b[39m\n",
       "]"
      ]
     },
     "execution_count": 57,
     "metadata": {},
     "output_type": "execute_result"
    }
   ],
   "source": [
    "const y_pre = data.map((fl) => fl[4]);\n",
    "y_pre.slice(0, 10)"
   ]
  },
  {
   "cell_type": "markdown",
   "metadata": {},
   "source": [
    "Our target variables are all strings. In order to use them for classification, we convert them into categorical variables."
   ]
  },
  {
   "cell_type": "code",
   "execution_count": 58,
   "metadata": {},
   "outputs": [
    {
     "data": {
      "text/html": [
       "<table>\n",
       "<thead><tr><DTh>idx</th><DTh>0</th><DTh>1</th><DTh>2</th></tr></thead><tr><td><strong>0</strong></td><td>1</td><td>0</td><td>0</td></tr><tr><td><strong>1</strong></td><td>1</td><td>0</td><td>0</td></tr><tr><td><strong>2</strong></td><td>1</td><td>0</td><td>0</td></tr><tr><td><strong>3</strong></td><td>1</td><td>0</td><td>0</td></tr><tr><td><strong>4</strong></td><td>1</td><td>0</td><td>0</td></tr><tr><td><strong>5</strong></td><td>1</td><td>0</td><td>0</td></tr><tr><td><strong>6</strong></td><td>1</td><td>0</td><td>0</td></tr><tr><td><strong>7</strong></td><td>1</td><td>0</td><td>0</td></tr><tr><td><strong>8</strong></td><td>1</td><td>0</td><td>0</td></tr><tr><td><strong>9</strong></td><td>1</td><td>0</td><td>0</td></tr></table>"
      ],
      "text/plain": [
       "1\t0\t0\n",
       "1\t0\t0\n",
       "1\t0\t0\n",
       "1\t0\t0\n",
       "1\t0\t0\n",
       "1\t0\t0\n",
       "1\t0\t0\n",
       "1\t0\t0\n",
       "1\t0\t0\n",
       "1\t0\t0\n"
      ]
     },
     "execution_count": 58,
     "metadata": {},
     "output_type": "execute_result"
    }
   ],
   "source": [
    "const encoder = new CategoricalEncoder()\n",
    "const y = encoder.fit(y_pre).transform(y_pre, \"f64\")\n",
    "y.slice(0, 10)"
   ]
  },
  {
   "cell_type": "code",
   "execution_count": 59,
   "metadata": {},
   "outputs": [
    {
     "data": {
      "text/plain": [
       "[ [ \u001b[33m150\u001b[39m, \u001b[33m4\u001b[39m ], [ \u001b[33m150\u001b[39m, \u001b[33m3\u001b[39m ] ]"
      ]
     },
     "execution_count": 59,
     "metadata": {},
     "output_type": "execute_result"
    }
   ],
   "source": [
    "[X.shape, y.shape]"
   ]
  },
  {
   "cell_type": "markdown",
   "metadata": {},
   "source": [
    "We now split our dataset for training and testing purposes. "
   ]
  },
  {
   "cell_type": "code",
   "execution_count": 60,
   "metadata": {},
   "outputs": [
    {
     "data": {
      "text/html": [
       "<table>\n",
       "<thead><tr><DTh>idx</th><DTh>0</th><DTh>1</th><DTh>2</th><DTh>3</th></tr></thead><tr><td><strong>0</strong></td><td>5.1</td><td>3.5</td><td>1.4</td><td>0.2</td></tr><tr><td><strong>1</strong></td><td>4.9</td><td>3</td><td>1.4</td><td>0.2</td></tr><tr><td><strong>2</strong></td><td>4.7</td><td>3.2</td><td>1.3</td><td>0.2</td></tr><tr><td><strong>3</strong></td><td>4.6</td><td>3.1</td><td>1.5</td><td>0.2</td></tr><tr><td><strong>4</strong></td><td>5</td><td>3.6</td><td>1.4</td><td>0.2</td></tr><tr><td><strong>5</strong></td><td>5.4</td><td>3.9</td><td>1.7</td><td>0.4</td></tr><tr><td><strong>6</strong></td><td>4.8</td><td>3.4</td><td>1.6</td><td>0.2</td></tr><tr><td><strong>7</strong></td><td>4.8</td><td>3</td><td>1.4</td><td>0.1</td></tr><tr><td><strong>8</strong></td><td>5.8</td><td>4</td><td>1.2</td><td>0.2</td></tr><tr><td><strong>9</strong></td><td>5.7</td><td>4.4</td><td>1.5</td><td>0.4</td></tr></table>"
      ],
      "text/plain": [
       "5.1\t3.5\t1.4\t0.2\n",
       "4.9\t3\t1.4\t0.2\n",
       "4.7\t3.2\t1.3\t0.2\n",
       "4.6\t3.1\t1.5\t0.2\n",
       "5\t3.6\t1.4\t0.2\n",
       "5.4\t3.9\t1.7\t0.4\n",
       "4.8\t3.4\t1.6\t0.2\n",
       "4.8\t3\t1.4\t0.1\n",
       "5.8\t4\t1.2\t0.2\n",
       "5.7\t4.4\t1.5\t0.4\n"
      ]
     },
     "execution_count": 60,
     "metadata": {},
     "output_type": "execute_result"
    }
   ],
   "source": [
    "const [[x_train, y_train], [x_test, y_test]] = useSplit(\n",
    "  { ratio: [7, 3], shuffle: true },\n",
    "  X,\n",
    "  y\n",
    ");\n",
    "x_train.slice(0, 10)"
   ]
  },
  {
   "cell_type": "markdown",
   "metadata": {},
   "source": [
    "Now that we have prepared our inputs, we can initialize our solver. Since we are performing logistic regression, we use a SAG solver.\n",
    "\n",
    "We use the `crossEntropy` loss function which is used for multinomial classification, `rmsprop` as our optimizer, and finally a `softmax` function to compute joint probabilities."
   ]
  },
  {
   "cell_type": "code",
   "execution_count": 61,
   "metadata": {},
   "outputs": [],
   "source": [
    "const solver = new SagSolver({\n",
    "  loss: crossEntropy(),\n",
    "  activation: softmaxActivation(),\n",
    "  optimizer: rmsPropOptimizer(4, 3),\n",
    "});\n"
   ]
  },
  {
   "cell_type": "markdown",
   "metadata": {},
   "source": [
    "We can then train our model using the data we acquired.\n",
    "\n",
    "Setting the learning rate to a small value is desirable. Since our dataset is pretty simple, we are training our model for 300 epochs with 20 minibatches."
   ]
  },
  {
   "cell_type": "code",
   "execution_count": 62,
   "metadata": {},
   "outputs": [],
   "source": [
    "solver.train(x_train, y_train, {\n",
    "  learning_rate: 0.01,\n",
    "  epochs: 300,\n",
    "  n_batches: 20,\n",
    "  patience: 10\n",
    "});"
   ]
  },
  {
   "cell_type": "markdown",
   "metadata": {},
   "source": [
    "The model is trained, now it is time to evaluate its performance on our testing dataset"
   ]
  },
  {
   "cell_type": "code",
   "execution_count": 63,
   "metadata": {},
   "outputs": [
    {
     "data": {
      "text/plain": [
       "[ \u001b[33m45\u001b[39m, \u001b[33m3\u001b[39m ]"
      ]
     },
     "execution_count": 63,
     "metadata": {},
     "output_type": "execute_result"
    }
   ],
   "source": [
    "const res = solver.predict(x_test)\n",
    "res.shape"
   ]
  },
  {
   "cell_type": "code",
   "execution_count": 64,
   "metadata": {},
   "outputs": [
    {
     "data": {
      "text/plain": [
       "Float64Array(3) [\n",
       "  \u001b[33m0.9999999999977868\u001b[39m,\n",
       "  \u001b[33m2.2131906052687517e-12\u001b[39m,\n",
       "  \u001b[33m1.5618941913383692e-23\u001b[39m\n",
       "]"
      ]
     },
     "execution_count": 64,
     "metadata": {},
     "output_type": "execute_result"
    }
   ],
   "source": [
    "res.row(0)"
   ]
  },
  {
   "cell_type": "markdown",
   "metadata": {},
   "source": [
    "The softmax function provides probabilities for the data point to belong to each of the classes. In our case, the three numbers in the array represent the probabilities of the first data point belonging to the classes `setosa`, `versicolor`, and `virginica` respectively.\n",
    "\n",
    "We convert these into one-hot representations by taking the `argmax`."
   ]
  },
  {
   "cell_type": "code",
   "execution_count": 65,
   "metadata": {},
   "outputs": [
    {
     "data": {
      "text/html": [
       "<table>\n",
       "<thead><tr><DTh>idx</th><DTh>0</th><DTh>1</th><DTh>2</th></tr></thead><tr><td><strong>0</strong></td><td>1</td><td>0</td><td>0</td></tr><tr><td><strong>1</strong></td><td>1</td><td>0</td><td>0</td></tr><tr><td><strong>2</strong></td><td>1</td><td>0</td><td>0</td></tr><tr><td><strong>3</strong></td><td>1</td><td>0</td><td>0</td></tr><tr><td><strong>4</strong></td><td>1</td><td>0</td><td>0</td></tr><tr><td><strong>5</strong></td><td>1</td><td>0</td><td>0</td></tr><tr><td><strong>6</strong></td><td>1</td><td>0</td><td>0</td></tr><tr><td><strong>7</strong></td><td>1</td><td>0</td><td>0</td></tr><tr><td><strong>8</strong></td><td>1</td><td>0</td><td>0</td></tr><tr><td><strong>9</strong></td><td>1</td><td>0</td><td>0</td></tr></table>"
      ],
      "text/plain": [
       "1\t0\t0\n",
       "1\t0\t0\n",
       "1\t0\t0\n",
       "1\t0\t0\n",
       "1\t0\t0\n",
       "1\t0\t0\n",
       "1\t0\t0\n",
       "1\t0\t0\n",
       "1\t0\t0\n",
       "1\t0\t0\n"
      ]
     },
     "execution_count": 65,
     "metadata": {},
     "output_type": "execute_result"
    }
   ],
   "source": [
    "CategoricalEncoder.fromSoftmax(res)\n",
    "res.slice(0, 10)"
   ]
  },
  {
   "cell_type": "markdown",
   "metadata": {},
   "source": [
    "We can use our encoder to convert the categorical variables into class labels."
   ]
  },
  {
   "cell_type": "code",
   "execution_count": 66,
   "metadata": {},
   "outputs": [],
   "source": [
    "const y_pred = encoder.untransform(res)\n",
    "const y_act = encoder.untransform(y_test)"
   ]
  },
  {
   "cell_type": "code",
   "execution_count": 67,
   "metadata": {},
   "outputs": [
    {
     "data": {
      "text/plain": [
       "[\n",
       "  [\n",
       "    \u001b[32m\"Iris-setosa\"\u001b[39m,     \u001b[32m\"Iris-setosa\"\u001b[39m,     \u001b[32m\"Iris-setosa\"\u001b[39m,\n",
       "    \u001b[32m\"Iris-setosa\"\u001b[39m,     \u001b[32m\"Iris-setosa\"\u001b[39m,     \u001b[32m\"Iris-setosa\"\u001b[39m,\n",
       "    \u001b[32m\"Iris-setosa\"\u001b[39m,     \u001b[32m\"Iris-setosa\"\u001b[39m,     \u001b[32m\"Iris-setosa\"\u001b[39m,\n",
       "    \u001b[32m\"Iris-setosa\"\u001b[39m,     \u001b[32m\"Iris-setosa\"\u001b[39m,     \u001b[32m\"Iris-setosa\"\u001b[39m,\n",
       "    \u001b[32m\"Iris-setosa\"\u001b[39m,     \u001b[32m\"Iris-setosa\"\u001b[39m,     \u001b[32m\"Iris-versicolor\"\u001b[39m,\n",
       "    \u001b[32m\"Iris-versicolor\"\u001b[39m, \u001b[32m\"Iris-versicolor\"\u001b[39m, \u001b[32m\"Iris-versicolor\"\u001b[39m,\n",
       "    \u001b[32m\"Iris-versicolor\"\u001b[39m, \u001b[32m\"Iris-versicolor\"\u001b[39m, \u001b[32m\"Iris-versicolor\"\u001b[39m,\n",
       "    \u001b[32m\"Iris-versicolor\"\u001b[39m, \u001b[32m\"Iris-versicolor\"\u001b[39m, \u001b[32m\"Iris-virginica\"\u001b[39m,\n",
       "    \u001b[32m\"Iris-versicolor\"\u001b[39m, \u001b[32m\"Iris-versicolor\"\u001b[39m, \u001b[32m\"Iris-versicolor\"\u001b[39m,\n",
       "    \u001b[32m\"Iris-virginica\"\u001b[39m,  \u001b[32m\"Iris-virginica\"\u001b[39m,  \u001b[32m\"Iris-virginica\"\u001b[39m,\n",
       "    \u001b[32m\"Iris-virginica\"\u001b[39m,  \u001b[32m\"Iris-virginica\"\u001b[39m,  \u001b[32m\"Iris-virginica\"\u001b[39m,\n",
       "    \u001b[32m\"Iris-virginica\"\u001b[39m,  \u001b[32m\"Iris-virginica\"\u001b[39m,  \u001b[32m\"Iris-virginica\"\u001b[39m,\n",
       "    \u001b[32m\"Iris-virginica\"\u001b[39m,  \u001b[32m\"Iris-virginica\"\u001b[39m,  \u001b[32m\"Iris-virginica\"\u001b[39m,\n",
       "    \u001b[32m\"Iris-virginica\"\u001b[39m,  \u001b[32m\"Iris-virginica\"\u001b[39m,  \u001b[32m\"Iris-virginica\"\u001b[39m,\n",
       "    \u001b[32m\"Iris-virginica\"\u001b[39m,  \u001b[32m\"Iris-virginica\"\u001b[39m,  \u001b[32m\"Iris-virginica\"\u001b[39m\n",
       "  ],\n",
       "  [\n",
       "    \u001b[32m\"Iris-setosa\"\u001b[39m,     \u001b[32m\"Iris-setosa\"\u001b[39m,     \u001b[32m\"Iris-setosa\"\u001b[39m,\n",
       "    \u001b[32m\"Iris-setosa\"\u001b[39m,     \u001b[32m\"Iris-setosa\"\u001b[39m,     \u001b[32m\"Iris-setosa\"\u001b[39m,\n",
       "    \u001b[32m\"Iris-setosa\"\u001b[39m,     \u001b[32m\"Iris-setosa\"\u001b[39m,     \u001b[32m\"Iris-setosa\"\u001b[39m,\n",
       "    \u001b[32m\"Iris-setosa\"\u001b[39m,     \u001b[32m\"Iris-setosa\"\u001b[39m,     \u001b[32m\"Iris-setosa\"\u001b[39m,\n",
       "    \u001b[32m\"Iris-setosa\"\u001b[39m,     \u001b[32m\"Iris-setosa\"\u001b[39m,     \u001b[32m\"Iris-versicolor\"\u001b[39m,\n",
       "    \u001b[32m\"Iris-versicolor\"\u001b[39m, \u001b[32m\"Iris-versicolor\"\u001b[39m, \u001b[32m\"Iris-versicolor\"\u001b[39m,\n",
       "    \u001b[32m\"Iris-versicolor\"\u001b[39m, \u001b[32m\"Iris-versicolor\"\u001b[39m, \u001b[32m\"Iris-versicolor\"\u001b[39m,\n",
       "    \u001b[32m\"Iris-versicolor\"\u001b[39m, \u001b[32m\"Iris-versicolor\"\u001b[39m, \u001b[32m\"Iris-versicolor\"\u001b[39m,\n",
       "    \u001b[32m\"Iris-versicolor\"\u001b[39m, \u001b[32m\"Iris-versicolor\"\u001b[39m, \u001b[32m\"Iris-versicolor\"\u001b[39m,\n",
       "    \u001b[32m\"Iris-virginica\"\u001b[39m,  \u001b[32m\"Iris-virginica\"\u001b[39m,  \u001b[32m\"Iris-virginica\"\u001b[39m,\n",
       "    \u001b[32m\"Iris-virginica\"\u001b[39m,  \u001b[32m\"Iris-virginica\"\u001b[39m,  \u001b[32m\"Iris-virginica\"\u001b[39m,\n",
       "    \u001b[32m\"Iris-virginica\"\u001b[39m,  \u001b[32m\"Iris-virginica\"\u001b[39m,  \u001b[32m\"Iris-virginica\"\u001b[39m,\n",
       "    \u001b[32m\"Iris-virginica\"\u001b[39m,  \u001b[32m\"Iris-virginica\"\u001b[39m,  \u001b[32m\"Iris-virginica\"\u001b[39m,\n",
       "    \u001b[32m\"Iris-virginica\"\u001b[39m,  \u001b[32m\"Iris-virginica\"\u001b[39m,  \u001b[32m\"Iris-virginica\"\u001b[39m,\n",
       "    \u001b[32m\"Iris-virginica\"\u001b[39m,  \u001b[32m\"Iris-virginica\"\u001b[39m,  \u001b[32m\"Iris-virginica\"\u001b[39m\n",
       "  ]\n",
       "]"
      ]
     },
     "execution_count": 67,
     "metadata": {},
     "output_type": "execute_result"
    }
   ],
   "source": [
    "[y_pred, y_act]"
   ]
  },
  {
   "cell_type": "markdown",
   "metadata": {},
   "source": [
    "Finally, we can generate a classification report based on our results."
   ]
  },
  {
   "cell_type": "code",
   "execution_count": 68,
   "metadata": {},
   "outputs": [
    {
     "data": {
      "text/html": [
       "<table><thead><tr><th>Class</th><th>Precision</th><th>F1Score</th><th>Recall</th><th>Support</th></tr></thead><tr><td>Iris-setosa</td><td>1</td><td>1</td><td>1</td><td>14</td></tr><tr><td>Iris-versicolor</td><td>1</td><td>1</td><td>1</td><td>13</td></tr><tr><td>Iris-virginica</td><td>0.9473684210526315</td><td>0.972972972972973</td><td>1</td><td>18</td></tr><tr><td>Accuracy</td><td></td><td></td><td>0.9925925925925926</td><td>45</td></tr></table>"
      ],
      "text/plain": [
       "Classification Report\n",
       "Number of classes:\t3\n",
       "Class\tPreci\tF1\tRec\tSup\n",
       "Iris-setosa\t1\t1\t1\t14\n",
       "Iris-versicolor\t1\t1\t1\t13\n",
       "Iris-virginica\t0.9473684210526315\t0.972972972972973\t1\t18\n",
       "Accuracy\t\t0.9925925925925926\t45"
      ]
     },
     "execution_count": 68,
     "metadata": {},
     "output_type": "execute_result"
    }
   ],
   "source": [
    "new ClassificationReport(y_act, y_pred)"
   ]
  },
  {
   "cell_type": "markdown",
   "metadata": {},
   "source": [
    "As we see, the classifier easily classifies different iris species. This is possible because the classes are easily separable. In a more complex dataset, these results may greatly vary."
   ]
  }
 ],
 "metadata": {
  "kernelspec": {
   "display_name": "Deno",
   "language": "typescript",
   "name": "deno"
  },
  "language_info": {
   "file_extension": ".ts",
   "mimetype": "text/x.typescript",
   "name": "typescript",
   "nb_converter": "script",
   "pygments_lexer": "typescript",
   "version": "5.3.3"
  }
 },
 "nbformat": 4,
 "nbformat_minor": 2
}
