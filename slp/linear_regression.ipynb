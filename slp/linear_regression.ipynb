{
 "cells": [
  {
   "cell_type": "markdown",
   "metadata": {},
   "source": [
    "# Linear Regression using La Classy"
   ]
  },
  {
   "cell_type": "code",
   "execution_count": 1,
   "metadata": {},
   "outputs": [
    {
     "name": "stdout",
     "output_type": "stream",
     "text": [
      "\u001b[32mDownloading\u001b[39m https://github.com/retraigo/classy-lala/releases/download/v1.0.1/classy.dll\n"
     ]
    }
   ],
   "source": [
    "import {\n",
    "  OLSSolver\n",
    "} from \"jsr:@lala/classy@1.0.1\";"
   ]
  },
  {
   "cell_type": "markdown",
   "metadata": {},
   "source": [
    "Let's initialize the predictor and target variables.\n",
    "\n",
    "We will make our model learn the function `y1 = 9x1 + 2x2 + 5x3 + 8`, `y2 = 3x1 + 4x2 + 3x3 + 5`."
   ]
  },
  {
   "cell_type": "code",
   "execution_count": 2,
   "metadata": {},
   "outputs": [
    {
     "data": {
      "text/plain": [
       "[ [ \u001b[33m115\u001b[39m, \u001b[33m74\u001b[39m ], [ \u001b[33m125\u001b[39m, \u001b[33m90\u001b[39m ], [ \u001b[33m666\u001b[39m, \u001b[33m497\u001b[39m ], [ \u001b[33m149\u001b[39m, \u001b[33m76\u001b[39m ], [ \u001b[33m498\u001b[39m, \u001b[33m207\u001b[39m ] ]"
      ]
     },
     "execution_count": 2,
     "metadata": {},
     "output_type": "execute_result"
    }
   ],
   "source": [
    "const X = [[5, 6, 10], [9, 13, 2], [12, 45, 92], [8, 2, 13], [43, 4, 19]]\n",
    "const y = X.map(x => ([x[0] * 9 + x[1] * 2 + x[2] * 5 + 8, x[0] * 3 + x[1] * 4 + x[2] * 3 + 5]))\n",
    "\n",
    "y"
   ]
  },
  {
   "cell_type": "code",
   "execution_count": 3,
   "metadata": {},
   "outputs": [],
   "source": [
    "const X_train = { data: Float64Array.from(X.flat()), shape: [5, 3] };\n",
    "const y_train = { data: Float64Array.from(y.flat()), shape: [5, 2] };\n"
   ]
  },
  {
   "cell_type": "markdown",
   "metadata": {},
   "source": [
    "Now that we have prepared our inputs, we can initialize our solver. Since we are performing linear regression, let's try out an Ordinary Least Squares solver."
   ]
  },
  {
   "cell_type": "code",
   "execution_count": 4,
   "metadata": {},
   "outputs": [],
   "source": [
    "const solver = new OLSSolver();"
   ]
  },
  {
   "cell_type": "markdown",
   "metadata": {},
   "source": [
    "We can then train our model using the data we acquired."
   ]
  },
  {
   "cell_type": "code",
   "execution_count": 5,
   "metadata": {},
   "outputs": [
    {
     "name": "stdout",
     "output_type": "stream",
     "text": [
      "training time: 0.3636999999998807ms\n"
     ]
    }
   ],
   "source": [
    "const time = performance.now();\n",
    "solver.train(X_train, y_train, {\n",
    "  fit_intercept: true,\n",
    "});\n",
    "console.log(`training time: ${performance.now() - time}ms`);"
   ]
  },
  {
   "cell_type": "markdown",
   "metadata": {},
   "source": [
    "The model is trained, now it is time to evaluate its performance on our testing dataset"
   ]
  },
  {
   "cell_type": "code",
   "execution_count": 6,
   "metadata": {},
   "outputs": [
    {
     "data": {
      "text/plain": [
       "[ \u001b[33m1\u001b[39m, \u001b[33m2\u001b[39m ]"
      ]
     },
     "execution_count": 6,
     "metadata": {},
     "output_type": "execute_result"
    }
   ],
   "source": [
    "const res = solver.predict({data: Float64Array.from([10, 13, 8]), shape: [1, 3]})\n",
    "res.shape"
   ]
  },
  {
   "cell_type": "code",
   "execution_count": 7,
   "metadata": {},
   "outputs": [
    {
     "data": {
      "text/plain": [
       "[ [ \u001b[33m164.00000000000037\u001b[39m, \u001b[33m111.00000000000037\u001b[39m ], [ \u001b[33m164\u001b[39m, \u001b[33m111\u001b[39m ] ]"
      ]
     },
     "execution_count": 7,
     "metadata": {},
     "output_type": "execute_result"
    }
   ],
   "source": [
    "[Array.from(res.data), [10 * 9 + 13 * 2 + 8 * 5 + 8, 10 * 3 + 13 * 4 + 8 * 3 + 5]]"
   ]
  }
 ],
 "metadata": {
  "kernelspec": {
   "display_name": "Deno",
   "language": "typescript",
   "name": "deno"
  },
  "language_info": {
   "file_extension": ".ts",
   "mimetype": "text/x.typescript",
   "name": "typescript",
   "nb_converter": "script",
   "pygments_lexer": "typescript",
   "version": "5.3.3"
  }
 },
 "nbformat": 4,
 "nbformat_minor": 2
}
