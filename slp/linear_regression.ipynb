{
 "cells": [
  {
   "cell_type": "markdown",
   "metadata": {},
   "source": [
    "# Linear Regression using La Classy"
   ]
  },
  {
   "cell_type": "code",
   "execution_count": 26,
   "metadata": {},
   "outputs": [],
   "source": [
    "import { parse } from \"https://deno.land/std@0.204.0/csv/parse.ts\";\n",
    "import {\n",
    "  ClassificationReport,\n",
    "  Matrix,\n",
    "  useSplit,\n",
    "  CategoricalEncoder,\n",
    "} from \"https://deno.land/x/vectorizer@v0.3.4/mod.ts\";\n",
    "import {\n",
    "  OLSSolver\n",
    "} from \"https://deno.land/x/classylala@v1.0.0/mod.ts\";\n"
   ]
  },
  {
   "cell_type": "markdown",
   "metadata": {},
   "source": [
    "We first load our dataset `iris.csv`."
   ]
  },
  {
   "cell_type": "code",
   "execution_count": 27,
   "metadata": {},
   "outputs": [],
   "source": [
    "const data = parse(Deno.readTextFileSync(\"../datasets/winequality-red.csv\"));"
   ]
  },
  {
   "cell_type": "markdown",
   "metadata": {},
   "source": [
    "Skip the first row (header)."
   ]
  },
  {
   "cell_type": "code",
   "execution_count": 28,
   "metadata": {},
   "outputs": [
    {
     "data": {
      "text/plain": [
       "[\n",
       "  \u001b[32m\"fixed acidity\"\u001b[39m,\n",
       "  \u001b[32m\"volatile acidity\"\u001b[39m,\n",
       "  \u001b[32m\"citric acid\"\u001b[39m,\n",
       "  \u001b[32m\"residual sugar\"\u001b[39m,\n",
       "  \u001b[32m\"chlorides\"\u001b[39m,\n",
       "  \u001b[32m\"free sulfur dioxide\"\u001b[39m,\n",
       "  \u001b[32m\"total sulfur dioxide\"\u001b[39m,\n",
       "  \u001b[32m\"density\"\u001b[39m,\n",
       "  \u001b[32m\"pH\"\u001b[39m,\n",
       "  \u001b[32m\"sulphates\"\u001b[39m,\n",
       "  \u001b[32m\"alcohol\"\u001b[39m,\n",
       "  \u001b[32m\"quality\"\u001b[39m\n",
       "]"
      ]
     },
     "execution_count": 28,
     "metadata": {},
     "output_type": "execute_result"
    }
   ],
   "source": [
    "data.shift()"
   ]
  },
  {
   "cell_type": "markdown",
   "metadata": {},
   "source": [
    "We can now get the predictor and target variables from the dataset."
   ]
  },
  {
   "cell_type": "code",
   "execution_count": 29,
   "metadata": {},
   "outputs": [
    {
     "data": {
      "text/html": [
       "<table>\n",
       "<thead><tr><th>idx</th><th>0</th><th>1</th><th>2</th><th>3</th><th>4</th><th>5</th><th>6</th><th>7</th><th>8</th><th>9</th></tr></thead><tr><td><strong>0</strong></td><td>7.4</td><td>0.7</td><td>0</td><td>1.9</td><td>0.076</td><td>11</td><td>34</td><td>0.9978</td><td>0.56</td><td>9.4</td></tr><tr><td><strong>1</strong></td><td>7.8</td><td>0.88</td><td>0</td><td>2.6</td><td>0.098</td><td>25</td><td>67</td><td>0.9968</td><td>0.68</td><td>9.8</td></tr><tr><td><strong>2</strong></td><td>7.8</td><td>0.76</td><td>0.04</td><td>2.3</td><td>0.092</td><td>15</td><td>54</td><td>0.997</td><td>0.65</td><td>9.8</td></tr><tr><td><strong>3</strong></td><td>11.2</td><td>0.28</td><td>0.56</td><td>1.9</td><td>0.075</td><td>17</td><td>60</td><td>0.998</td><td>0.58</td><td>9.8</td></tr><tr><td><strong>4</strong></td><td>7.4</td><td>0.7</td><td>0</td><td>1.9</td><td>0.076</td><td>11</td><td>34</td><td>0.9978</td><td>0.56</td><td>9.4</td></tr><tr><td><strong>5</strong></td><td>7.4</td><td>0.66</td><td>0</td><td>1.8</td><td>0.075</td><td>13</td><td>40</td><td>0.9978</td><td>0.56</td><td>9.4</td></tr><tr><td><strong>6</strong></td><td>7.9</td><td>0.6</td><td>0.06</td><td>1.6</td><td>0.069</td><td>15</td><td>59</td><td>0.9964</td><td>0.46</td><td>9.4</td></tr><tr><td><strong>7</strong></td><td>7.3</td><td>0.65</td><td>0</td><td>1.2</td><td>0.065</td><td>15</td><td>21</td><td>0.9946</td><td>0.47</td><td>10</td></tr><tr><td><strong>8</strong></td><td>7.8</td><td>0.58</td><td>0.02</td><td>2</td><td>0.073</td><td>9</td><td>18</td><td>0.9968</td><td>0.57</td><td>9.5</td></tr><tr><td><strong>9</strong></td><td>7.5</td><td>0.5</td><td>0.36</td><td>6.1</td><td>0.071</td><td>17</td><td>102</td><td>0.9978</td><td>0.8</td><td>10.5</td></tr></table>"
      ],
      "text/plain": [
       "7.4\t0.7\t0\t1.9\t0.076\t11\t34\t0.9978\t0.56\t9.4\n",
       "7.8\t0.88\t0\t2.6\t0.098\t25\t67\t0.9968\t0.68\t9.8\n",
       "7.8\t0.76\t0.04\t2.3\t0.092\t15\t54\t0.997\t0.65\t9.8\n",
       "11.2\t0.28\t0.56\t1.9\t0.075\t17\t60\t0.998\t0.58\t9.8\n",
       "7.4\t0.7\t0\t1.9\t0.076\t11\t34\t0.9978\t0.56\t9.4\n",
       "7.4\t0.66\t0\t1.8\t0.075\t13\t40\t0.9978\t0.56\t9.4\n",
       "7.9\t0.6\t0.06\t1.6\t0.069\t15\t59\t0.9964\t0.46\t9.4\n",
       "7.3\t0.65\t0\t1.2\t0.065\t15\t21\t0.9946\t0.47\t10\n",
       "7.8\t0.58\t0.02\t2\t0.073\t9\t18\t0.9968\t0.57\t9.5\n",
       "7.5\t0.5\t0.36\t6.1\t0.071\t17\t102\t0.9978\t0.8\t10.5\n"
      ]
     },
     "execution_count": 29,
     "metadata": {},
     "output_type": "execute_result"
    }
   ],
   "source": [
    "const x = data.map((fl, i) => [...fl.slice(0, 8), ...fl.slice(9, 11)]);\n",
    "\n",
    "const X = new Matrix<\"f64\">(Float64Array.from(x.flat()), [data.length])\n",
    "X.slice(0, 10)"
   ]
  },
  {
   "cell_type": "markdown",
   "metadata": {},
   "source": [
    "Let's use pH value as our target variable."
   ]
  },
  {
   "cell_type": "code",
   "execution_count": 30,
   "metadata": {},
   "outputs": [
    {
     "data": {
      "text/html": [
       "<table>\n",
       "<thead><tr><th>idx</th><th>0</th></tr></thead><tr><td><strong>0</strong></td><td>3.51</td></tr><tr><td><strong>1</strong></td><td>3.2</td></tr><tr><td><strong>2</strong></td><td>3.26</td></tr><tr><td><strong>3</strong></td><td>3.16</td></tr><tr><td><strong>4</strong></td><td>3.51</td></tr><tr><td><strong>5</strong></td><td>3.51</td></tr><tr><td><strong>6</strong></td><td>3.3</td></tr><tr><td><strong>7</strong></td><td>3.39</td></tr><tr><td><strong>8</strong></td><td>3.36</td></tr><tr><td><strong>9</strong></td><td>3.35</td></tr></table>"
      ],
      "text/plain": [
       "3.51\n",
       "3.2\n",
       "3.26\n",
       "3.16\n",
       "3.51\n",
       "3.51\n",
       "3.3\n",
       "3.39\n",
       "3.36\n",
       "3.35\n"
      ]
     },
     "execution_count": 30,
     "metadata": {},
     "output_type": "execute_result"
    }
   ],
   "source": [
    "const y = new Matrix<\"f64\">(Float64Array.from(data.map((fl) => fl[8])), [data.length]);\n",
    "y.slice(0, 10)"
   ]
  },
  {
   "cell_type": "code",
   "execution_count": 31,
   "metadata": {},
   "outputs": [
    {
     "data": {
      "text/plain": [
       "[ [ \u001b[33m1599\u001b[39m, \u001b[33m10\u001b[39m ], [ \u001b[33m1599\u001b[39m, \u001b[33m1\u001b[39m ] ]"
      ]
     },
     "execution_count": 31,
     "metadata": {},
     "output_type": "execute_result"
    }
   ],
   "source": [
    "[X.shape, y.shape]"
   ]
  },
  {
   "cell_type": "markdown",
   "metadata": {},
   "source": [
    "We now split our dataset for training and testing purposes. "
   ]
  },
  {
   "cell_type": "code",
   "execution_count": 32,
   "metadata": {},
   "outputs": [
    {
     "data": {
      "text/html": [
       "<table>\n",
       "<thead><tr><th>idx</th><th>0</th><th>1</th><th>2</th><th>3</th><th>4</th><th>5</th><th>6</th><th>7</th><th>8</th><th>9</th></tr></thead><tr><td><strong>0</strong></td><td>7.4</td><td>0.7</td><td>0</td><td>1.9</td><td>0.076</td><td>11</td><td>34</td><td>0.9978</td><td>0.56</td><td>9.4</td></tr><tr><td><strong>1</strong></td><td>11.2</td><td>0.28</td><td>0.56</td><td>1.9</td><td>0.075</td><td>17</td><td>60</td><td>0.998</td><td>0.58</td><td>9.8</td></tr><tr><td><strong>2</strong></td><td>7.4</td><td>0.7</td><td>0</td><td>1.9</td><td>0.076</td><td>11</td><td>34</td><td>0.9978</td><td>0.56</td><td>9.4</td></tr><tr><td><strong>3</strong></td><td>7.9</td><td>0.6</td><td>0.06</td><td>1.6</td><td>0.069</td><td>15</td><td>59</td><td>0.9964</td><td>0.46</td><td>9.4</td></tr><tr><td><strong>4</strong></td><td>7.5</td><td>0.5</td><td>0.36</td><td>6.1</td><td>0.071</td><td>17</td><td>102</td><td>0.9978</td><td>0.8</td><td>10.5</td></tr><tr><td><strong>5</strong></td><td>6.7</td><td>0.58</td><td>0.08</td><td>1.8</td><td>0.097</td><td>15</td><td>65</td><td>0.9959</td><td>0.54</td><td>9.2</td></tr><tr><td><strong>6</strong></td><td>7.5</td><td>0.5</td><td>0.36</td><td>6.1</td><td>0.071</td><td>17</td><td>102</td><td>0.9978</td><td>0.8</td><td>10.5</td></tr><tr><td><strong>7</strong></td><td>5.6</td><td>0.615</td><td>0</td><td>1.6</td><td>0.089</td><td>16</td><td>59</td><td>0.9943</td><td>0.52</td><td>9.9</td></tr><tr><td><strong>8</strong></td><td>8.5</td><td>0.28</td><td>0.56</td><td>1.8</td><td>0.092</td><td>35</td><td>103</td><td>0.9969</td><td>0.75</td><td>10.5</td></tr><tr><td><strong>9</strong></td><td>8.1</td><td>0.56</td><td>0.28</td><td>1.7</td><td>0.368</td><td>16</td><td>56</td><td>0.9968</td><td>1.28</td><td>9.3</td></tr></table>"
      ],
      "text/plain": [
       "7.4\t0.7\t0\t1.9\t0.076\t11\t34\t0.9978\t0.56\t9.4\n",
       "11.2\t0.28\t0.56\t1.9\t0.075\t17\t60\t0.998\t0.58\t9.8\n",
       "7.4\t0.7\t0\t1.9\t0.076\t11\t34\t0.9978\t0.56\t9.4\n",
       "7.9\t0.6\t0.06\t1.6\t0.069\t15\t59\t0.9964\t0.46\t9.4\n",
       "7.5\t0.5\t0.36\t6.1\t0.071\t17\t102\t0.9978\t0.8\t10.5\n",
       "6.7\t0.58\t0.08\t1.8\t0.097\t15\t65\t0.9959\t0.54\t9.2\n",
       "7.5\t0.5\t0.36\t6.1\t0.071\t17\t102\t0.9978\t0.8\t10.5\n",
       "5.6\t0.615\t0\t1.6\t0.089\t16\t59\t0.9943\t0.52\t9.9\n",
       "8.5\t0.28\t0.56\t1.8\t0.092\t35\t103\t0.9969\t0.75\t10.5\n",
       "8.1\t0.56\t0.28\t1.7\t0.368\t16\t56\t0.9968\t1.28\t9.3\n"
      ]
     },
     "execution_count": 32,
     "metadata": {},
     "output_type": "execute_result"
    }
   ],
   "source": [
    "const [[x_train, y_train], [x_test, y_test]] = useSplit(\n",
    "  { ratio: [7, 3], shuffle: true },\n",
    "  X,\n",
    "  y\n",
    ");\n",
    "x_train.slice(0, 10)"
   ]
  },
  {
   "cell_type": "markdown",
   "metadata": {},
   "source": [
    "Now that we have prepared our inputs, we can initialize our solver. Since we are performing linear regression, let's try out an Ordinary Least Squares solver."
   ]
  },
  {
   "cell_type": "code",
   "execution_count": 33,
   "metadata": {},
   "outputs": [],
   "source": [
    "const solver = new OLSSolver();"
   ]
  },
  {
   "cell_type": "markdown",
   "metadata": {},
   "source": [
    "We can then train our model using the data we acquired."
   ]
  },
  {
   "cell_type": "code",
   "execution_count": 34,
   "metadata": {},
   "outputs": [],
   "source": [
    "solver.train(x_train, y_train, {\n",
    "  fit_intercept: true,\n",
    "});"
   ]
  },
  {
   "cell_type": "markdown",
   "metadata": {},
   "source": [
    "The model is trained, now it is time to evaluate its performance on our testing dataset"
   ]
  },
  {
   "cell_type": "code",
   "execution_count": 35,
   "metadata": {},
   "outputs": [
    {
     "data": {
      "text/plain": [
       "[ \u001b[33m480\u001b[39m, \u001b[33m1\u001b[39m ]"
      ]
     },
     "execution_count": 35,
     "metadata": {},
     "output_type": "execute_result"
    }
   ],
   "source": [
    "const res = solver.predict(x_test)\n",
    "res.shape"
   ]
  },
  {
   "cell_type": "code",
   "execution_count": 36,
   "metadata": {},
   "outputs": [
    {
     "data": {
      "text/plain": [
       "[ Float64Array(1) [ \u001b[33m3.3237623259586706\u001b[39m ], Float64Array(1) [ \u001b[33m3.2\u001b[39m ] ]"
      ]
     },
     "execution_count": 36,
     "metadata": {},
     "output_type": "execute_result"
    }
   ],
   "source": [
    "[res.row(0), y_test.row(0)]"
   ]
  },
  {
   "cell_type": "markdown",
   "metadata": {},
   "source": [
    "Let's calculate the RMSE."
   ]
  },
  {
   "cell_type": "code",
   "execution_count": 37,
   "metadata": {},
   "outputs": [
    {
     "name": "stdout",
     "output_type": "stream",
     "text": [
      "RMSE: 11.01462121914336\n"
     ]
    }
   ],
   "source": [
    "let se = 0\n",
    "for (let i = 0; i < res.nRows; i += 1) {\n",
    "  se += (y_test.item(i, 0) * res.item(i, 0)) ** 2\n",
    "}\n",
    "se /= res.nRows;\n",
    "console.log(`RMSE: ${Math.sqrt(se)}`)"
   ]
  }
 ],
 "metadata": {
  "kernelspec": {
   "display_name": "Deno",
   "language": "typescript",
   "name": "deno"
  },
  "language_info": {
   "file_extension": ".ts",
   "mimetype": "text/x.typescript",
   "name": "typescript",
   "nb_converter": "script",
   "pygments_lexer": "typescript",
   "version": "5.3.3"
  }
 },
 "nbformat": 4,
 "nbformat_minor": 2
}
