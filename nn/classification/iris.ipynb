{
 "cells": [
  {
   "cell_type": "markdown",
   "metadata": {},
   "source": [
    "# Multinomial Classification using Netsaur"
   ]
  },
  {
   "cell_type": "code",
   "execution_count": 2,
   "metadata": {},
   "outputs": [],
   "source": [
    "import {\n",
    "  AdamOptimizer,\n",
    "  Cost,\n",
    "  CPU,\n",
    "  DenseLayer,\n",
    "  OneCycle,\n",
    "  ReluLayer,\n",
    "  Sequential,\n",
    "  setupBackend,\n",
    "  SoftmaxLayer,\n",
    "  tensor,\n",
    "  tensor2D,\n",
    "} from \"https://deno.land/x/netsaur@0.2.15/mod.ts\";\n",
    "\n",
    "import { parse } from \"https://deno.land/std@0.204.0/csv/parse.ts\";\n",
    "\n",
    "// Import helpers for metrics\n",
    "import {\n",
    "  ClassificationReport,\n",
    "  // Split the dataset\n",
    "  useSplit,\n",
    "  CategoricalEncoder,\n",
    "} from \"https://deno.land/x/vectorizer@v0.3.4/mod.ts\";"
   ]
  },
  {
   "cell_type": "markdown",
   "metadata": {},
   "source": [
    "We first read our dataset."
   ]
  },
  {
   "cell_type": "code",
   "execution_count": 4,
   "metadata": {},
   "outputs": [],
   "source": [
    "// Read the training dataset\n",
    "const _data = Deno.readTextFileSync(\"../../datasets/iris.csv\");\n",
    "const data = parse(_data);\n",
    "\n",
    "// Get the predictors (x) and targets (y)\n",
    "const x = data.map((fl) => fl.slice(0, 4).map(Number));\n",
    "const y = data.map((fl) => fl[4]);"
   ]
  },
  {
   "cell_type": "code",
   "execution_count": 5,
   "metadata": {},
   "outputs": [],
   "source": [
    "// Split the dataset for training and testing\n",
    "const [[x_train, y_train], [x_test, y_test]] = useSplit(\n",
    "  { ratio: [7, 3], shuffle: true },\n",
    "  x,\n",
    "  encodedY\n",
    ");\n"
   ]
  },
  {
   "cell_type": "code",
   "execution_count": 12,
   "metadata": {},
   "outputs": [],
   "source": [
    "// Setup the CPU backend for Netsaur\n",
    "await setupBackend(CPU);\n",
    "\n",
    "// Create a sequential neural network\n",
    "const net = new Sequential({\n",
    "  // Set number of minibatches to 6\n",
    "  // Set size of input layer to 4\n",
    "  size: [6, 4],\n",
    "\n",
    "  // Disable logging during training\n",
    "  silent: true,\n",
    "\n",
    "  // Define each layer of the network\n",
    "  layers: [\n",
    "    // A dense layer with 16 neurons\n",
    "    DenseLayer({ size: [16] }),\n",
    "    // A ReLu activation layer\n",
    "    ReluLayer(),\n",
    "    // A dense layer with 3 neurons\n",
    "    DenseLayer({ size: [3] }),\n",
    "    // A Softmax activation layer\n",
    "    SoftmaxLayer(),\n",
    "  ],\n",
    "  optimizer: AdamOptimizer(),\n",
    "  // We are using CrossEntropy for finding cost\n",
    "  cost: Cost.CrossEntropy,\n",
    "  scheduler: OneCycle({ max_rate: 0.05, step_size: 50 }),\n",
    "});\n"
   ]
  },
  {
   "cell_type": "code",
   "execution_count": 13,
   "metadata": {},
   "outputs": [
    {
     "name": "stdout",
     "output_type": "stream",
     "text": [
      "training time: 19.26720000000205ms\n"
     ]
    }
   ],
   "source": [
    "const time = performance.now();\n",
    "net.train(\n",
    "  [\n",
    "    {\n",
    "      inputs: tensor2D(x_train),\n",
    "      outputs: tensor(y_train.data, [y_train.nRows, y_train.nCols]),\n",
    "    },\n",
    "  ],\n",
    "  300,\n",
    "  1,\n",
    "  0.02\n",
    ");\n",
    "console.log(`training time: ${performance.now() - time}ms`);"
   ]
  },
  {
   "cell_type": "code",
   "execution_count": 14,
   "metadata": {},
   "outputs": [
    {
     "data": {
      "text/html": [
       "<table><thead><tr><th>Class</th><th>Precision</th><th>F1Score</th><th>Recall</th><th>Support</th></tr></thead><tr><td>Class setosa</td><td>1</td><td>1</td><td>1</td><td>13</td></tr><tr><td>Class versicolor</td><td>1</td><td>1</td><td>1</td><td>16</td></tr><tr><td>Class virginica</td><td>1</td><td>1</td><td>1</td><td>16</td></tr><tr><td>Accuracy</td><td></td><td>1</td><td>45</td></tr></table>"
      ],
      "text/plain": [
       "Classification Report\n",
       "Number of classes:\t3\n",
       "Class\tPreci\tF1\tRec\tSup\n",
       "setosa\t1\t1\t1\t13\n",
       "versicolor\t1\t1\t1\t16\n",
       "virginica\t1\t1\t1\t16\n",
       "Accuracy\t\t1\t45"
      ]
     },
     "execution_count": 14,
     "metadata": {},
     "output_type": "execute_result"
    }
   ],
   "source": [
    "// Calculate metrics\n",
    "const res = await Promise.all(\n",
    "  x_test.map((input) => net.predict(tensor1D(input)))\n",
    ");\n",
    "const y1 = res.map((x) => encoder.getOg(x.data.indexOf(Math.max(...x.data))));\n",
    "const y0 = encoder.untransform(y_test);\n",
    "\n",
    "const cReport = new ClassificationReport(y0, y1);\n",
    "cReport;\n"
   ]
  },
  {
   "cell_type": "code",
   "execution_count": null,
   "metadata": {},
   "outputs": [],
   "source": []
  }
 ],
 "metadata": {
  "kernelspec": {
   "display_name": "Deno",
   "language": "typescript",
   "name": "deno"
  },
  "language_info": {
   "file_extension": ".ts",
   "mimetype": "text/x.typescript",
   "name": "typescript",
   "nb_converter": "script",
   "pygments_lexer": "typescript",
   "version": "5.3.3"
  }
 },
 "nbformat": 4,
 "nbformat_minor": 2
}
