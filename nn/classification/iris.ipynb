{
 "cells": [
  {
   "cell_type": "code",
   "execution_count": 1,
   "metadata": {},
   "outputs": [
    {
     "name": "stdout",
     "output_type": "stream",
     "text": [
      "\u001b[32mDownloading\u001b[39m https://github.com/denosaurs/netsaur/releases/download/0.2.15/netsaur.dll\n"
     ]
    },
    {
     "ename": "",
     "evalue": "",
     "output_type": "error",
     "traceback": [
      "\u001b[1;31mThe Kernel crashed while executing code in the the current cell or a previous cell. Please review the code in the cell(s) to identify a possible cause of the failure. Click <a href='https://aka.ms/vscodeJupyterKernelCrash'>here</a> for more info. View Jupyter <a href='command:jupyter.viewOutput'>log</a> for further details."
     ]
    }
   ],
   "source": [
    "import {\n",
    "  AdamOptimizer,\n",
    "  Cost,\n",
    "  CPU,\n",
    "  DenseLayer,\n",
    "  OneCycle,\n",
    "  ReluLayer,\n",
    "  Sequential,\n",
    "  setupBackend,\n",
    "  SoftmaxLayer,\n",
    "  tensor,\n",
    "  tensor2D,\n",
    "} from \"https://deno.land/x/netsaur@0.2.15/mod.ts\";\n",
    "\n",
    "import { parse } from \"https://deno.land/std@0.204.0/csv/parse.ts\";\n",
    "\n",
    "// Import helpers for metrics\n",
    "import {\n",
    "  ClassificationReport,\n",
    "  // Split the dataset\n",
    "  useSplit,\n",
    "  CategoricalEncoder,\n",
    "} from \"https://deno.land/x/vectorizer@v0.3.4/mod.ts\";\n",
    "\n",
    "// Read the training dataset\n",
    "const _data = Deno.readTextFileSync(\"../../datasets/iris.csv\");\n",
    "const data = parse(_data);\n",
    "\n",
    "// Get the predictors (x) and targets (y)\n",
    "const x = data.map((fl) => fl.slice(0, 2).map(Number));\n",
    "const y = data.map((fl) => fl[4]);\n",
    "\n",
    "const encoder = new CategoricalEncoder();\n",
    "\n",
    "const encodedY = encoder.fit(y).transform<\"f32\">(y, \"f32\");\n",
    "\n",
    "// Split the dataset for training and testing\n",
    "const [[x_train, y_train], [x_test, y_test]] = useSplit(\n",
    "    { ratio: [7, 3], shuffle: true },\n",
    "    x,\n",
    "    encodedY\n",
    "  );\n",
    "\n",
    "// Setup the CPU backend for Netsaur\n",
    "await setupBackend(CPU);\n",
    "\n",
    "// Create a sequential neural network\n",
    "const net = new Sequential({\n",
    "  // Set number of minibatches to 4\n",
    "  // Set size of output to 4\n",
    "  size: [4, 4],\n",
    "\n",
    "  // Disable logging during training\n",
    "  silent: false,\n",
    "\n",
    "  // Define each layer of the network\n",
    "  layers: [\n",
    "    // A dense layer with 16 neurons\n",
    "    DenseLayer({ size: [16] }),\n",
    "    // A ReLu activation layer\n",
    "    ReluLayer(),\n",
    "    // A dense layer with 3 neurons\n",
    "    DenseLayer({ size: [3] }),\n",
    "    // A Softmax activation layer\n",
    "    SoftmaxLayer(),\n",
    "  ],\n",
    "  optimizer: AdamOptimizer(),\n",
    "  // We are using CrossEntropy for finding cost\n",
    "  cost: Cost.CrossEntropy,\n",
    "  scheduler: OneCycle({ max_rate: 0.05, step_size: 50 }),\n",
    "});\n",
    "\n",
    "const time = performance.now();\n",
    "\n",
    "// Train the network\n",
    "net.train(\n",
    "  [\n",
    "    {\n",
    "      inputs: tensor2D(x_train),\n",
    "      outputs: tensor(y_train.data, y_train.shape),\n",
    "    },\n",
    "  ],\n",
    "  // Train for 300 epochs\n",
    "  300,\n",
    "  1,\n",
    "  0.02\n",
    ");\n",
    "\n",
    "console.log(`training time: ${performance.now() - time}ms`);\n",
    "\n"
   ]
  },
  {
   "cell_type": "markdown",
   "metadata": {},
   "source": []
  },
  {
   "cell_type": "code",
   "execution_count": null,
   "metadata": {},
   "outputs": [],
   "source": []
  }
 ],
 "metadata": {
  "kernelspec": {
   "display_name": "Deno",
   "language": "typescript",
   "name": "deno"
  },
  "language_info": {
   "file_extension": ".ts",
   "mimetype": "text/x.typescript",
   "name": "typescript",
   "nb_converter": "script",
   "pygments_lexer": "typescript",
   "version": "5.3.3"
  }
 },
 "nbformat": 4,
 "nbformat_minor": 2
}
