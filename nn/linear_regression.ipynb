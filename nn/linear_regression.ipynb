{
 "cells": [
  {
   "cell_type": "markdown",
   "metadata": {},
   "source": [
    "# Linear Regression using Netsaur"
   ]
  },
  {
   "cell_type": "code",
   "execution_count": 96,
   "metadata": {},
   "outputs": [],
   "source": [
    "import {\n",
    "  Cost,\n",
    "  CPU,\n",
    "  DenseLayer,\n",
    "  Sequential,\n",
    "  setupBackend,\n",
    "  tensor1D,\n",
    "  tensor2D,\n",
    "  AdamOptimizer\n",
    "} from \"https://deno.land/x/netsaur@0.2.15/mod.ts\";"
   ]
  },
  {
   "cell_type": "markdown",
   "metadata": {},
   "source": [
    "Let's initialize the predictor and target variables."
   ]
  },
  {
   "cell_type": "code",
   "execution_count": 97,
   "metadata": {},
   "outputs": [
    {
     "data": {
      "text/plain": [
       "[ [ \u001b[33m51\u001b[39m, \u001b[33m133\u001b[39m ], [ \u001b[33m142\u001b[39m, \u001b[33m351\u001b[39m ], [ \u001b[33m101\u001b[39m, \u001b[33m107\u001b[39m ], [ \u001b[33m32\u001b[39m, \u001b[33m65\u001b[39m ], [ \u001b[33m68\u001b[39m, \u001b[33m107\u001b[39m ] ]"
      ]
     },
     "execution_count": 97,
     "metadata": {},
     "output_type": "execute_result"
    }
   ],
   "source": [
    "const X = [[12, 3], [34, 8], [2, 19], [4, 4], [6, 10]]\n",
    "const y = X.map(x => ([x[0] * 3 + x[1] * 5, x[0] * 9 + x[1] * 4 + 13]))\n",
    "\n",
    "y"
   ]
  },
  {
   "cell_type": "markdown",
   "metadata": {},
   "source": [
    "Now that we have prepared our inputs, we can initialize our neural network. Since we are performing linear regression, a simple configuration works."
   ]
  },
  {
   "cell_type": "code",
   "execution_count": 98,
   "metadata": {},
   "outputs": [],
   "source": [
    "await setupBackend(CPU);\n",
    "\n",
    "const net = new Sequential({\n",
    "  size: [4, 2],\n",
    "\n",
    "  silent: true,\n",
    "  layers: [\n",
    "    DenseLayer({ size: [8] }),\n",
    "    DenseLayer({ size: [2] }),\n",
    "  ],\n",
    "  cost: Cost.MSE,\n",
    "  optimizer: AdamOptimizer()\n",
    "});"
   ]
  },
  {
   "cell_type": "markdown",
   "metadata": {},
   "source": [
    "We can then train our model using the data we acquired."
   ]
  },
  {
   "cell_type": "code",
   "execution_count": 99,
   "metadata": {},
   "outputs": [
    {
     "name": "stdout",
     "output_type": "stream",
     "text": [
      "training time: 6.981000000028871ms\n"
     ]
    }
   ],
   "source": [
    "const time = performance.now();\n",
    "net.train(\n",
    "  [\n",
    "    {\n",
    "      inputs: tensor2D(X),\n",
    "      outputs: tensor2D(y),\n",
    "    },\n",
    "  ],\n",
    "  700,\n",
    "  1,\n",
    "  0.1\n",
    ");\n",
    "console.log(`training time: ${performance.now() - time}ms`);"
   ]
  },
  {
   "cell_type": "markdown",
   "metadata": {},
   "source": [
    "The linear regression model is now trained."
   ]
  },
  {
   "cell_type": "code",
   "execution_count": 100,
   "metadata": {},
   "outputs": [],
   "source": [
    "const res = await net.predict(tensor1D([18, 32]))"
   ]
  },
  {
   "cell_type": "code",
   "execution_count": 101,
   "metadata": {},
   "outputs": [
    {
     "data": {
      "text/plain": [
       "[ [ \u001b[33m213.97418212890625\u001b[39m, \u001b[33m303.0185852050781\u001b[39m ], [ \u001b[33m214\u001b[39m, \u001b[33m303\u001b[39m ] ]"
      ]
     },
     "execution_count": 101,
     "metadata": {},
     "output_type": "execute_result"
    }
   ],
   "source": [
    "[Array.from(res.data), [18 * 3 + 32 * 5, 18 * 9 + 32 * 4 + 13]]"
   ]
  }
 ],
 "metadata": {
  "kernelspec": {
   "display_name": "Deno",
   "language": "typescript",
   "name": "deno"
  },
  "language_info": {
   "file_extension": ".ts",
   "mimetype": "text/x.typescript",
   "name": "typescript",
   "nb_converter": "script",
   "pygments_lexer": "typescript",
   "version": "5.3.3"
  }
 },
 "nbformat": 4,
 "nbformat_minor": 2
}
