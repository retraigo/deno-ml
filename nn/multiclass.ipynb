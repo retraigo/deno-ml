{
 "cells": [
  {
   "cell_type": "markdown",
   "metadata": {},
   "source": [
    "# Multinomial Classification using Netsaur"
   ]
  },
  {
   "cell_type": "code",
   "execution_count": 8,
   "metadata": {},
   "outputs": [],
   "source": [
    "import {\n",
    "  AdamOptimizer,\n",
    "  Cost,\n",
    "  CPU,\n",
    "  DenseLayer,\n",
    "  OneCycle,\n",
    "  ReluLayer,\n",
    "  Sequential,\n",
    "  setupBackend,\n",
    "  SoftmaxLayer,\n",
    "  tensor,\n",
    "  tensor1D,\n",
    "  tensor2D,\n",
    "} from \"jsr:@denosaurs/netsaur@0.3.1\";\n",
    "\n",
    "import { parse } from \"jsr:@std/csv\";\n",
    "\n",
    "import {\n",
    "  ClassificationReport,\n",
    "  useSplit,\n",
    "  Matrix,\n",
    "  CategoricalEncoder,\n",
    "} from \"jsr:@lala/appraisal@0.4.0\";"
   ]
  },
  {
   "cell_type": "code",
   "execution_count": 2,
   "metadata": {},
   "outputs": [
    {
     "data": {
      "text/plain": [
       "[\n",
       "  \u001b[32m\"sepal length\"\u001b[39m,\n",
       "  \u001b[32m\"sepal width\"\u001b[39m,\n",
       "  \u001b[32m\"petal length\"\u001b[39m,\n",
       "  \u001b[32m\"petal width\"\u001b[39m,\n",
       "  \u001b[32m\"class\"\u001b[39m\n",
       "]"
      ]
     },
     "execution_count": 2,
     "metadata": {},
     "output_type": "execute_result"
    }
   ],
   "source": [
    "// Read the training dataset\n",
    "const _data = Deno.readTextFileSync(\"../datasets/iris.csv\");\n",
    "const data = parse(_data);\n",
    "data.shift()\n",
    "\n",
    "// Get the predictors (x) and targets (y)\n",
    "const x = data.map((fl) => fl.slice(0, 4).map(Number));\n",
    "const y = data.map((fl) => fl[4]);\n",
    "\n",
    "const encoder = new CategoricalEncoder()\n",
    "const encodedY = encoder.fit(y).transform(y, \"f32\")"
   ]
  },
  {
   "cell_type": "code",
   "execution_count": 3,
   "metadata": {},
   "outputs": [],
   "source": [
    "// Split the dataset for training and testing\n",
    "const [[x_train, y_train], [x_test, y_test]] = useSplit(\n",
    "  { ratio: [7, 3], shuffle: true },\n",
    "  x,\n",
    "  encodedY\n",
    ");\n"
   ]
  },
  {
   "cell_type": "markdown",
   "metadata": {},
   "source": [
    "We classified the same dataset in our SLP example too, but we weren't able to get 100% accuracy most of the time due to the `versicolor` and `virginica` classes not being linearly separable. \n",
    "\n",
    "We are adding a hidden layer with `ReLU` activation before our `Softmax` output layer.\n",
    "\n",
    "With a multi-layer neural network, we can use the `ReLU` activation function to induce non-linearity in our model. This helps us accurately classify the three species."
   ]
  },
  {
   "cell_type": "code",
   "execution_count": 5,
   "metadata": {},
   "outputs": [
    {
     "name": "stdout",
     "output_type": "stream",
     "text": [
      "\u001b[32mDownloading\u001b[39m https://github.com/denosaurs/netsaur/releases/download/0.3.1/netsaur.dll\n",
      "CPU Backend Initialized\n"
     ]
    }
   ],
   "source": [
    "// Setup the CPU backend for Netsaur\n",
    "await setupBackend(CPU);\n",
    "\n",
    "// Create a sequential neural network\n",
    "const net = new Sequential({\n",
    "  // Set number of minibatches to 6\n",
    "  // Set size of input layer to 4\n",
    "  size: [6, 4],\n",
    "\n",
    "  // Disable logging during training\n",
    "  silent: true,\n",
    "\n",
    "  // Define each layer of the network\n",
    "  layers: [\n",
    "    // A dense layer with 16 neurons\n",
    "    DenseLayer({ size: [16] }),\n",
    "    // A ReLu activation layer\n",
    "    ReluLayer(),\n",
    "    // A dense layer with 3 neurons\n",
    "    DenseLayer({ size: [3] }),\n",
    "    // A Softmax activation layer\n",
    "    SoftmaxLayer(),\n",
    "  ],\n",
    "  optimizer: AdamOptimizer(),\n",
    "  // We are using CrossEntropy for finding cost\n",
    "  cost: Cost.CrossEntropy,\n",
    "  scheduler: OneCycle({ max_rate: 0.05, step_size: 50 }),\n",
    "});\n"
   ]
  },
  {
   "cell_type": "code",
   "execution_count": 18,
   "metadata": {},
   "outputs": [
    {
     "name": "stdout",
     "output_type": "stream",
     "text": [
      "training time: 28.4493000000366ms\n"
     ]
    }
   ],
   "source": [
    "const time = performance.now();\n",
    "net.train(\n",
    "  [\n",
    "    {\n",
    "      inputs: tensor2D(x_train),\n",
    "      outputs: tensor(y_train.data, y_train.shape),\n",
    "    },\n",
    "  ],\n",
    "  300,\n",
    "  5,\n",
    "  0.02\n",
    ");\n",
    "console.log(`training time: ${performance.now() - time}ms`);\n"
   ]
  },
  {
   "cell_type": "markdown",
   "metadata": {},
   "source": [
    "Now that the model has been trained, we can test its performance."
   ]
  },
  {
   "cell_type": "code",
   "execution_count": 19,
   "metadata": {},
   "outputs": [
    {
     "data": {
      "text/html": [
       "<table><thead><tr><th>Class</th><th>Precision</th><th>F1Score</th><th>Recall</th><th>Support</th></tr></thead><tr><td>Iris-setosa</td><td>1</td><td>1</td><td>1</td><td>17</td></tr><tr><td>Iris-versicolor</td><td>1</td><td>1</td><td>1</td><td>11</td></tr><tr><td>Iris-virginica</td><td>1</td><td>1</td><td>1</td><td>17</td></tr><tr><td>Accuracy</td><td></td><td></td><td>1</td><td>45</td></tr></table>"
      ],
      "text/plain": [
       "Classification Report\n",
       "Number of classes:\t3\n",
       "Class\tPreci\tF1\tRec\tSup\n",
       "Iris-setosa\t1\t1\t1\t17\n",
       "Iris-versicolor\t1\t1\t1\t11\n",
       "Iris-virginica\t1\t1\t1\t17\n",
       "Accuracy\t\t1\t45"
      ]
     },
     "execution_count": 19,
     "metadata": {},
     "output_type": "execute_result"
    }
   ],
   "source": [
    "// Calculate metrics\n",
    "const res = await net.predict(tensor2D(x_test));\n",
    "\n",
    "const y1 = encoder.untransform(\n",
    "    CategoricalEncoder.fromSoftmax(\n",
    "        new Matrix(res.data, {shape: res.shape})\n",
    "    )\n",
    ");\n",
    "const y0 = encoder.untransform(y_test);\n",
    "const cReport = new ClassificationReport(y0, y1);\n",
    "cReport;"
   ]
  }
 ],
 "metadata": {
  "kernelspec": {
   "display_name": "Deno",
   "language": "typescript",
   "name": "deno"
  },
  "language_info": {
   "file_extension": ".ts",
   "mimetype": "text/x.typescript",
   "name": "typescript",
   "nb_converter": "script",
   "pygments_lexer": "typescript",
   "version": "5.3.3"
  }
 },
 "nbformat": 4,
 "nbformat_minor": 2
}
